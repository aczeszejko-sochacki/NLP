{
 "cells": [
  {
   "cell_type": "markdown",
   "metadata": {},
   "source": [
    "# Natural Language Processing"
   ]
  },
  {
   "cell_type": "markdown",
   "metadata": {},
   "source": [
    "### List 3"
   ]
  },
  {
   "cell_type": "code",
   "execution_count": 1,
   "metadata": {},
   "outputs": [],
   "source": [
    "%matplotlib inline\n",
    "from matplotlib import pyplot as plt\n",
    "import numpy as np\n",
    "from src.generate_dice_rolls import DiceRollsGenerator\n",
    "from src.dice_predictors import HeuristicPredictor\n",
    "from sklearn.metrics import accuracy_score"
   ]
  },
  {
   "cell_type": "markdown",
   "metadata": {},
   "source": [
    "## Generate rolls"
   ]
  },
  {
   "cell_type": "code",
   "execution_count": 2,
   "metadata": {},
   "outputs": [],
   "source": [
    "dice_roll_gen = DiceRollsGenerator()"
   ]
  },
  {
   "cell_type": "code",
   "execution_count": 3,
   "metadata": {},
   "outputs": [],
   "source": [
    "fair_distr = (1/6,) * 6\n",
    "cheat_distr = (1/10,)*5 + (1/2,)\n",
    "p_fair_to_cheat = 0.04\n",
    "p_cheat_to_fair = 0.05\n",
    "n_rolls = 10000"
   ]
  },
  {
   "cell_type": "code",
   "execution_count": 4,
   "metadata": {
    "scrolled": false
   },
   "outputs": [],
   "source": [
    "rolls, dices = dice_roll_gen.generate_rolls(fair_distr, cheat_distr,\n",
    "                                            p_fair_to_cheat, p_cheat_to_fair,\n",
    "                                            n_rolls)"
   ]
  },
  {
   "cell_type": "code",
   "execution_count": 5,
   "metadata": {},
   "outputs": [
    {
     "name": "stdout",
     "output_type": "stream",
     "text": [
      "[2 3 4 1 3 5 2 1 3 4]\n",
      "['u' 'u' 'u' 'u' 'u' 'u' 'u' 'u' 'u' 'u']\n"
     ]
    }
   ],
   "source": [
    "# Show some rolls and dices\n",
    "print(rolls[:10])\n",
    "print(dices[:10])"
   ]
  },
  {
   "cell_type": "markdown",
   "metadata": {},
   "source": [
    "### Show fair and cheat rolls on the bar plot"
   ]
  },
  {
   "cell_type": "code",
   "execution_count": 6,
   "metadata": {},
   "outputs": [],
   "source": [
    "def bar_plot_rolls_with_dices(rolls: np.array, dices: np.array) -> plt.bar:\n",
    "    fair_rolls = np.argwhere(dices == 'u').ravel()\n",
    "    cheat_rolls = np.argwhere(dices == 'n').ravel()\n",
    "\n",
    "    plt.figure(figsize=(20, 5))\n",
    "    plt.bar(fair_rolls, rolls[fair_rolls], color='g')\n",
    "    plt.bar(cheat_rolls, rolls[cheat_rolls], color='r')\n",
    "    plt.xlabel('rolls', size=20)\n",
    "    plt.ylabel('values', size=20)"
   ]
  },
  {
   "cell_type": "code",
   "execution_count": 7,
   "metadata": {
    "scrolled": true
   },
   "outputs": [
    {
     "data": {
      "image/png": "[encoded data removed]",
      "text/plain": [
       "<Figure size 1440x360 with 1 Axes>"
      ]
     },
     "metadata": {},
     "output_type": "display_data"
    }
   ],
   "source": [
    "bar_plot_rolls_with_dices(rolls, dices)"
   ]
  },
  {
   "cell_type": "markdown",
   "metadata": {},
   "source": [
    "## Make predictions of the dices — values are observable states, dices are hidden states"
   ]
  },
  {
   "cell_type": "markdown",
   "metadata": {},
   "source": [
    "### Heuristic predictions based on the 6 density"
   ]
  },
  {
   "cell_type": "code",
   "execution_count": 8,
   "metadata": {},
   "outputs": [],
   "source": [
    "heuristic_predictor = HeuristicPredictor()"
   ]
  },
  {
   "cell_type": "code",
   "execution_count": 18,
   "metadata": {},
   "outputs": [
    {
     "name": "stdout",
     "output_type": "stream",
     "text": [
      "0.5598440155984401 0.16666666666666666\n",
      "0.6114388561143885 0.24074074074074076\n",
      "0.6597340265973403 0.3148148148148148\n",
      "0.7117288271172882 0.38888888888888895\n",
      "0.7268273172682732 0.462962962962963\n",
      "0.7597240275972402 0.5370370370370371\n",
      "0.7483251674832517 0.6111111111111112\n",
      "0.7264273572642735 0.6851851851851852\n",
      "0.7106289371062894 0.7592592592592593\n",
      "0.7007299270072993 0.8333333333333334\n"
     ]
    }
   ],
   "source": [
    "for ratio in np.linspace(1/6, 5/6, 10):\n",
    "    \n",
    "    # Compute the predictions\n",
    "    dices_heur = heuristic_predictor.predict(rolls, p_cheat_to_fair,\n",
    "                                             min_six_subset_ratio=ratio)\n",
    "    \n",
    "    # Print the score with the coresponding ratio\n",
    "    print(accuracy_score(dices, dices_heur), ratio)"
   ]
  },
  {
   "cell_type": "markdown",
   "metadata": {},
   "source": [
    "### Hidden Markov Model predictions"
   ]
  },
  {
   "cell_type": "code",
   "execution_count": null,
   "metadata": {},
   "outputs": [],
   "source": []
  },
  {
   "cell_type": "code",
   "execution_count": null,
   "metadata": {},
   "outputs": [],
   "source": []
  },
  {
   "cell_type": "code",
   "execution_count": null,
   "metadata": {},
   "outputs": [],
   "source": []
  },
  {
   "cell_type": "code",
   "execution_count": null,
   "metadata": {},
   "outputs": [],
   "source": []
  },
  {
   "cell_type": "code",
   "execution_count": null,
   "metadata": {},
   "outputs": [],
   "source": []
  }
 ],
 "metadata": {
  "kernelspec": {
   "display_name": "Python 3",
   "language": "python",
   "name": "python3"
  },
  "language_info": {
   "codemirror_mode": {
    "name": "ipython",
    "version": 3
   },
   "file_extension": ".py",
   "mimetype": "text/x-python",
   "name": "python",
   "nbconvert_exporter": "python",
   "pygments_lexer": "ipython3",
   "version": "3.6.5"
  }
 },
 "nbformat": 4,
 "nbformat_minor": 2
}
