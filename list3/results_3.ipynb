{
 "cells": [
  {
   "cell_type": "markdown",
   "metadata": {},
   "source": [
    "# Natural Language Processing"
   ]
  },
  {
   "cell_type": "markdown",
   "metadata": {},
   "source": [
    "### List 3"
   ]
  },
  {
   "cell_type": "code",
   "execution_count": 1,
   "metadata": {},
   "outputs": [],
   "source": [
    "%matplotlib inline\n",
    "from matplotlib import pyplot as plt\n",
    "import numpy as np\n",
    "from src.generate_dice_rolls import DiceRollsGenerator"
   ]
  },
  {
   "cell_type": "markdown",
   "metadata": {},
   "source": [
    "## Generate rolls"
   ]
  },
  {
   "cell_type": "code",
   "execution_count": 2,
   "metadata": {},
   "outputs": [],
   "source": [
    "dice_roll_gen = DiceRollsGenerator()"
   ]
  },
  {
   "cell_type": "code",
   "execution_count": 31,
   "metadata": {},
   "outputs": [],
   "source": [
    "fair_distr = (1/6,) * 6\n",
    "cheat_distr = (1/10,)*5 + (1/2,)\n",
    "p_fair_to_cheat = 0.04\n",
    "p_cheat_to_fair = 0.05\n",
    "n_rolls = 10000"
   ]
  },
  {
   "cell_type": "code",
   "execution_count": 32,
   "metadata": {
    "scrolled": false
   },
   "outputs": [],
   "source": [
    "rolls, dices = dice_roll_gen.generate_rolls(fair_distr, cheat_distr,\n",
    "                                            p_fair_to_cheat, p_cheat_to_fair,\n",
    "                                            n_rolls)"
   ]
  },
  {
   "cell_type": "code",
   "execution_count": 33,
   "metadata": {},
   "outputs": [
    {
     "name": "stdout",
     "output_type": "stream",
     "text": [
      "[3 4 5 1 3 6 6 5 6 1]\n",
      "['u' 'u' 'u' 'u' 'u' 'n' 'n' 'n' 'n' 'n']\n"
     ]
    }
   ],
   "source": [
    "# Show some rolls and dices\n",
    "print(rolls[:10])\n",
    "print(dices[:10])"
   ]
  },
  {
   "cell_type": "markdown",
   "metadata": {},
   "source": [
    "### Show fair and cheat rolls on the bar plot"
   ]
  },
  {
   "cell_type": "code",
   "execution_count": 35,
   "metadata": {
    "scrolled": true
   },
   "outputs": [
    {
     "data": {
      "text/plain": [
       "Text(0,0.5,'values')"
      ]
     },
     "execution_count": 35,
     "metadata": {},
     "output_type": "execute_result"
    },
    {
     "data": {
      "image/png": "[encoded data removed]",
      "text/plain": [
       "<Figure size 1440x360 with 1 Axes>"
      ]
     },
     "metadata": {},
     "output_type": "display_data"
    }
   ],
   "source": [
    "fair_rolls = np.argwhere(dices == 'u').ravel()\n",
    "cheat_rolls = np.argwhere(dices == 'n').ravel()\n",
    "\n",
    "plt.figure(figsize=(20, 5))\n",
    "plt.bar(fair_rolls, rolls[fair_rolls], color='g')\n",
    "plt.bar(cheat_rolls, rolls[cheat_rolls], color='r')\n",
    "plt.xlabel('rolls', size=20)\n",
    "plt.ylabel('values', size=20)"
   ]
  },
  {
   "cell_type": "code",
   "execution_count": null,
   "metadata": {},
   "outputs": [],
   "source": []
  }
 ],
 "metadata": {
  "kernelspec": {
   "display_name": "Python 3",
   "language": "python",
   "name": "python3"
  },
  "language_info": {
   "codemirror_mode": {
    "name": "ipython",
    "version": 3
   },
   "file_extension": ".py",
   "mimetype": "text/x-python",
   "name": "python",
   "nbconvert_exporter": "python",
   "pygments_lexer": "ipython3",
   "version": "3.6.5"
  }
 },
 "nbformat": 4,
 "nbformat_minor": 2
}
