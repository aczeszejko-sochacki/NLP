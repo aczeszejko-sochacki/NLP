{
 "cells": [
  {
   "cell_type": "markdown",
   "metadata": {},
   "source": [
    "# Natural Language Processing"
   ]
  },
  {
   "cell_type": "markdown",
   "metadata": {},
   "source": [
    "### List 3"
   ]
  },
  {
   "cell_type": "code",
   "execution_count": 16,
   "metadata": {},
   "outputs": [],
   "source": [
    "%matplotlib inline\n",
    "from matplotlib import pyplot as plt\n",
    "import numpy as np\n",
    "from src.generate_dice_rolls import DiceRollsGenerator\n",
    "from src.dice_predictors import HeuristicPredictor, HMMViterbiPredictor\n",
    "from sklearn.metrics import accuracy_score"
   ]
  },
  {
   "cell_type": "markdown",
   "metadata": {},
   "source": [
    "## Generate rolls"
   ]
  },
  {
   "cell_type": "code",
   "execution_count": 17,
   "metadata": {},
   "outputs": [],
   "source": [
    "dice_roll_gen = DiceRollsGenerator()"
   ]
  },
  {
   "cell_type": "code",
   "execution_count": 18,
   "metadata": {},
   "outputs": [],
   "source": [
    "fair_distr = (1/6,) * 6\n",
    "cheat_distr = (1/10,)*5 + (1/2,)\n",
    "p_fair_to_cheat = 0.04\n",
    "p_cheat_to_fair = 0.05\n",
    "n_rolls = 10000"
   ]
  },
  {
   "cell_type": "code",
   "execution_count": null,
   "metadata": {},
   "outputs": [],
   "source": []
  },
  {
   "cell_type": "code",
   "execution_count": 19,
   "metadata": {
    "scrolled": false
   },
   "outputs": [],
   "source": [
    "rolls, dices = dice_roll_gen.generate_rolls(fair_distr, cheat_distr,\n",
    "                                            p_fair_to_cheat, p_cheat_to_fair,\n",
    "                                            n_rolls)"
   ]
  },
  {
   "cell_type": "code",
   "execution_count": 20,
   "metadata": {},
   "outputs": [
    {
     "name": "stdout",
     "output_type": "stream",
     "text": [
      "[2 4 1 1 2 6 2 2 6 5]\n",
      "['u' 'u' 'u' 'n' 'n' 'n' 'u' 'u' 'u' 'u']\n"
     ]
    }
   ],
   "source": [
    "# Show some rolls and dices\n",
    "print(rolls[:10])\n",
    "print(dices[:10])"
   ]
  },
  {
   "cell_type": "markdown",
   "metadata": {},
   "source": [
    "### Show fair and cheat rolls on the bar plot"
   ]
  },
  {
   "cell_type": "code",
   "execution_count": 21,
   "metadata": {},
   "outputs": [],
   "source": [
    "def bar_plot_rolls_with_dices(rolls: np.array, dices: np.array) -> plt.bar:\n",
    "    fair_rolls = np.argwhere(dices == 'u').ravel()\n",
    "    cheat_rolls = np.argwhere(dices == 'n').ravel()\n",
    "\n",
    "    plt.figure(figsize=(20, 5))\n",
    "    plt.bar(fair_rolls, rolls[fair_rolls], color='g')\n",
    "    plt.bar(cheat_rolls, rolls[cheat_rolls], color='r')\n",
    "    plt.xlabel('rolls', size=20)\n",
    "    plt.ylabel('values', size=20)"
   ]
  },
  {
   "cell_type": "code",
   "execution_count": 22,
   "metadata": {
    "scrolled": true
   },
   "outputs": [
    {
     "data": {
      "image/png": "[encoded data removed]",
      "text/plain": [
       "<Figure size 1440x360 with 1 Axes>"
      ]
     },
     "metadata": {},
     "output_type": "display_data"
    }
   ],
   "source": [
    "bar_plot_rolls_with_dices(rolls, dices)"
   ]
  },
  {
   "cell_type": "markdown",
   "metadata": {},
   "source": [
    "## Make predictions of the dices — values are observable states, dices are hidden states"
   ]
  },
  {
   "cell_type": "markdown",
   "metadata": {},
   "source": [
    "### Heuristic predictions based on the 6 density"
   ]
  },
  {
   "cell_type": "code",
   "execution_count": 23,
   "metadata": {},
   "outputs": [],
   "source": [
    "heuristic_predictor = HeuristicPredictor()"
   ]
  },
  {
   "cell_type": "code",
   "execution_count": 24,
   "metadata": {},
   "outputs": [
    {
     "name": "stdout",
     "output_type": "stream",
     "text": [
      "0.5807419258074192 0.16666666666666666\n",
      "0.6239376062393761 0.24074074074074076\n",
      "0.6678332166783322 0.3148148148148148\n",
      "0.7147285271472853 0.38888888888888895\n",
      "0.7292270772922708 0.462962962962963\n",
      "0.7496250374962504 0.5370370370370371\n",
      "0.7396260373962604 0.6111111111111112\n",
      "0.7139286071392861 0.6851851851851852\n",
      "0.6935306469353064 0.7592592592592593\n",
      "0.6854314568543146 0.8333333333333334\n"
     ]
    }
   ],
   "source": [
    "for ratio in np.linspace(1/6, 5/6, 10):\n",
    "    \n",
    "    # Compute the predictions\n",
    "    dices_heur = heuristic_predictor.predict(rolls, p_cheat_to_fair,\n",
    "                                             min_six_subset_ratio=ratio)\n",
    "    \n",
    "    # Print the score with the coresponding ratio\n",
    "    print(accuracy_score(dices, dices_heur), ratio)"
   ]
  },
  {
   "cell_type": "markdown",
   "metadata": {},
   "source": [
    "### Hidden Markov Model predictions"
   ]
  },
  {
   "cell_type": "code",
   "execution_count": 25,
   "metadata": {},
   "outputs": [],
   "source": [
    "# Define transition matrix\n",
    "A = {\n",
    "    'u': {'u': 1-p_fair_to_cheat, 'n': p_fair_to_cheat},\n",
    "    'n': {'u': p_cheat_to_fair, 'n': 1-p_cheat_to_fair},\n",
    "}"
   ]
  },
  {
   "cell_type": "code",
   "execution_count": 26,
   "metadata": {},
   "outputs": [],
   "source": [
    "# Define emission matrix\n",
    "B = {\n",
    "    'u': dict(zip(range(1, 7), fair_distr)),\n",
    "    'n': dict(zip(range(1, 7), cheat_distr)),\n",
    "}"
   ]
  },
  {
   "cell_type": "code",
   "execution_count": 27,
   "metadata": {},
   "outputs": [],
   "source": [
    "hmm = HMMViterbiPredictor()"
   ]
  },
  {
   "cell_type": "code",
   "execution_count": 28,
   "metadata": {},
   "outputs": [],
   "source": [
    "# Prob of fair start state is 1\n",
    "start_states = np.array([1., 0.])"
   ]
  },
  {
   "cell_type": "code",
   "execution_count": 30,
   "metadata": {
    "scrolled": false
   },
   "outputs": [
    {
     "name": "stdout",
     "output_type": "stream",
     "text": [
      "0.7165283471652835 5.0\n",
      "0.8022197780221978 5.222222222222222\n",
      "0.8268173182681732 5.444444444444445\n",
      "0.8268173182681732 5.666666666666667\n",
      "0.8268173182681732 5.888888888888889\n",
      "0.8268173182681732 6.111111111111111\n"
     ]
    },
    {
     "name": "stderr",
     "output_type": "stream",
     "text": [
      "/home/aleksander/Documents/Repos/NLP/list3/src/dice_predictors.py:84: RuntimeWarning: overflow encountered in double_scalars\n",
      "  new_delta_cand = a_ij * b_ijo_t * delta_i * delta_const\n"
     ]
    },
    {
     "name": "stdout",
     "output_type": "stream",
     "text": [
      "0.6826317368263174 6.333333333333333\n",
      "0.6137386261373863 6.555555555555555\n",
      "0.5807419258074192 6.777777777777778\n",
      "0.5742425757424258 7.0\n"
     ]
    }
   ],
   "source": [
    "# Need to avoid numerical errors\n",
    "for const in np.linspace(5, 7, 10):\n",
    "\n",
    "    # Compute the predictions\n",
    "    dices_hmm = hmm.predict(rolls, A, B, np.array([1., 0.]), delta_const=const)\n",
    "    \n",
    "    # Print the score with the coresponding const\n",
    "    print(accuracy_score(dices, dices_hmm), const)"
   ]
  },
  {
   "cell_type": "code",
   "execution_count": null,
   "metadata": {},
   "outputs": [],
   "source": []
  }
 ],
 "metadata": {
  "kernelspec": {
   "display_name": "Python 3",
   "language": "python",
   "name": "python3"
  },
  "language_info": {
   "codemirror_mode": {
    "name": "ipython",
    "version": 3
   },
   "file_extension": ".py",
   "mimetype": "text/x-python",
   "name": "python",
   "nbconvert_exporter": "python",
   "pygments_lexer": "ipython3",
   "version": "3.6.5"
  }
 },
 "nbformat": 4,
 "nbformat_minor": 2
}
