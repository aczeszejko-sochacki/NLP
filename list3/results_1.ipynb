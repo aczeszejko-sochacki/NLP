{
 "cells": [
  {
   "cell_type": "markdown",
   "metadata": {},
   "source": [
    "# Natural Language Processing "
   ]
  },
  {
   "cell_type": "markdown",
   "metadata": {},
   "source": [
    "### List 3"
   ]
  },
  {
   "cell_type": "code",
   "execution_count": 1,
   "metadata": {},
   "outputs": [],
   "source": [
    "from src.parsers.token_parser import TokenParser\n",
    "from src.parsers.unigram_parser import UnigramParser\n",
    "from src.parsers.bigram_parser import BigramParser\n",
    "from src.viterbi_text_pred import ViterbiRevTextPred"
   ]
  },
  {
   "cell_type": "markdown",
   "metadata": {},
   "source": [
    "## Create required objects, structs etc."
   ]
  },
  {
   "cell_type": "code",
   "execution_count": 2,
   "metadata": {},
   "outputs": [],
   "source": [
    "token_example = 'woda'\n",
    "text_example = 'nie stara sie nadmiernie zebysmy ja polubili'.split()"
   ]
  },
  {
   "cell_type": "code",
   "execution_count": 3,
   "metadata": {},
   "outputs": [],
   "source": [
    "token_parser = TokenParser()"
   ]
  },
  {
   "cell_type": "code",
   "execution_count": 4,
   "metadata": {},
   "outputs": [
    {
     "data": {
      "text/plain": [
       "['woda', 'wodą', 'wóda', 'wódą']"
      ]
     },
     "execution_count": 4,
     "metadata": {},
     "output_type": "execute_result"
    }
   ],
   "source": [
    "token_parser.gen_poss_rev_tokens(token_example)"
   ]
  },
  {
   "cell_type": "code",
   "execution_count": 5,
   "metadata": {},
   "outputs": [],
   "source": [
    "unigrams = UnigramParser().create_unigrams_struct(k=3).unigrams"
   ]
  },
  {
   "cell_type": "code",
   "execution_count": 6,
   "metadata": {},
   "outputs": [],
   "source": [
    "bigrams = BigramParser().create_bigrams_struct(k=3).bigrams"
   ]
  },
  {
   "cell_type": "code",
   "execution_count": 7,
   "metadata": {},
   "outputs": [],
   "source": [
    "viterbi_text_pred = ViterbiRevTextPred()"
   ]
  },
  {
   "cell_type": "code",
   "execution_count": 8,
   "metadata": {},
   "outputs": [
    {
     "data": {
      "text/plain": [
       "[['nie', 'nię'],\n",
       " ['stara', 'starą', 'stąra', 'stąrą', 'śtara', 'śtarą', 'śtąra', 'śtąrą'],\n",
       " ['sie', 'się', 'śie', 'śię'],\n",
       " ['nadmiernie',\n",
       "  'nadmiernię',\n",
       "  'nadmięrnie',\n",
       "  'nadmięrnię',\n",
       "  'nądmiernie',\n",
       "  'nądmiernię',\n",
       "  'nądmięrnie',\n",
       "  'nądmięrnię'],\n",
       " ['zebysmy',\n",
       "  'zebyśmy',\n",
       "  'zębysmy',\n",
       "  'zębyśmy',\n",
       "  'źebysmy',\n",
       "  'źebyśmy',\n",
       "  'źębysmy',\n",
       "  'źębyśmy',\n",
       "  'żebysmy',\n",
       "  'żebyśmy',\n",
       "  'żębysmy',\n",
       "  'żębyśmy'],\n",
       " ['ja', 'ją'],\n",
       " ['polubili', 'pólubili']]"
      ]
     },
     "execution_count": 8,
     "metadata": {},
     "output_type": "execute_result"
    }
   ],
   "source": [
    "viterbi_text_pred.gen_poss_sent(text_example, token_parser)"
   ]
  },
  {
   "cell_type": "markdown",
   "metadata": {},
   "source": [
    "## Tests"
   ]
  },
  {
   "cell_type": "markdown",
   "metadata": {},
   "source": [
    "### Without capital letters"
   ]
  },
  {
   "cell_type": "code",
   "execution_count": 18,
   "metadata": {},
   "outputs": [],
   "source": [
    "t1 = 'nie stara sie nadmiernie zebysmy ja polubili'.split()\n",
    "t2 = 'lubie pic goraca herbate'.split()\n",
    "t3 = 'nie stara sie nadmiernie , zebysmy ja polubili'.split()\n",
    "t4 = 'mozna wydluzyc termin wybranego zadania'.split()\n",
    "t5 = 'ciemny kat'.split()\n",
    "sents = (t1, t2, t3, t4, t5)"
   ]
  },
  {
   "cell_type": "code",
   "execution_count": 19,
   "metadata": {},
   "outputs": [
    {
     "name": "stdout",
     "output_type": "stream",
     "text": [
      "nie stara się nadmiernie żebyśmy ją polubili\n",
      "lubię pić gorącą herbatę\n",
      "nie stara się nadmiernie , żebyśmy ją polubili\n",
      "można wydlużyć termin wybranego zadania\n",
      "ciemny kąt\n"
     ]
    }
   ],
   "source": [
    "for sent in sents:\n",
    "    print(viterbi_text_pred.predict(sent, unigrams, bigrams, token_parser))"
   ]
  },
  {
   "cell_type": "code",
   "execution_count": null,
   "metadata": {},
   "outputs": [],
   "source": []
  }
 ],
 "metadata": {
  "kernelspec": {
   "display_name": "Python 3",
   "language": "python",
   "name": "python3"
  },
  "language_info": {
   "codemirror_mode": {
    "name": "ipython",
    "version": 3
   },
   "file_extension": ".py",
   "mimetype": "text/x-python",
   "name": "python",
   "nbconvert_exporter": "python",
   "pygments_lexer": "ipython3",
   "version": "3.6.7"
  }
 },
 "nbformat": 4,
 "nbformat_minor": 2
}
