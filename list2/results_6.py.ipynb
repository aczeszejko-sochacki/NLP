{
 "cells": [
  {
   "cell_type": "markdown",
   "metadata": {},
   "source": [
    "# Natural Language Processing"
   ]
  },
  {
   "cell_type": "markdown",
   "metadata": {},
   "source": [
    "###  List 2"
   ]
  },
  {
   "cell_type": "code",
   "execution_count": 1,
   "metadata": {},
   "outputs": [],
   "source": [
    "from src.parsers.token_parser import TokenParser\n",
    "from src.poetry_generator import PoetryGenerator\n",
    "from src.parsers.tag_parser import TagParser\n",
    "from src.parsers.unigram_parser import UnigramParser\n",
    "from src.parsers.bigram_parser import BigramParser\n",
    "from src.parsers.sentence_parser import SentenceParser\n",
    "from src.exceptions import NoRhyme"
   ]
  },
  {
   "cell_type": "markdown",
   "metadata": {},
   "source": [
    "## Create required objects, structures etc."
   ]
  },
  {
   "cell_type": "code",
   "execution_count": 2,
   "metadata": {},
   "outputs": [],
   "source": [
    "tag_parser = TagParser()\n",
    "unigrams_parser = UnigramParser('poleval_2grams.txt')\n",
    "bigrams_parser = BigramParser('poleval_2grams.txt')\n",
    "token_parser = TokenParser()\n",
    "sentence_parser = SentenceParser()\n",
    "poetry_generator = PoetryGenerator()"
   ]
  },
  {
   "cell_type": "code",
   "execution_count": 3,
   "metadata": {},
   "outputs": [],
   "source": [
    "tagged_tokens = tag_parser.create_tag_token_pairs()\n",
    "tag_sets = tag_parser.create_tags_struct()"
   ]
  },
  {
   "cell_type": "code",
   "execution_count": 4,
   "metadata": {},
   "outputs": [],
   "source": [
    "unigrams = unigrams_parser.create_unigrams_struct()"
   ]
  },
  {
   "cell_type": "code",
   "execution_count": 5,
   "metadata": {},
   "outputs": [],
   "source": [
    "bigrams = bigrams_parser.create_bigrams_struct(k=3)"
   ]
  },
  {
   "cell_type": "markdown",
   "metadata": {},
   "source": [
    "## Make some tests"
   ]
  },
  {
   "cell_type": "markdown",
   "metadata": {},
   "source": [
    "### Rhymes ends with token parser"
   ]
  },
  {
   "cell_type": "code",
   "execution_count": 6,
   "metadata": {},
   "outputs": [
    {
     "name": "stdout",
     "output_type": "stream",
     "text": [
      "iemia\n",
      "ul\n",
      "ywa\n",
      "ara\n"
     ]
    }
   ],
   "source": [
    "# Some tests\n",
    "print(token_parser.get_token_end_for_a_rhyme('ziemia'))\n",
    "print(token_parser.get_token_end_for_a_rhyme('ul'))\n",
    "print(token_parser.get_token_end_for_a_rhyme('lokomotywa'))\n",
    "print(token_parser.get_token_end_for_a_rhyme('ara'))"
   ]
  },
  {
   "cell_type": "markdown",
   "metadata": {},
   "source": [
    "### Generate a rhyme "
   ]
  },
  {
   "cell_type": "code",
   "execution_count": 7,
   "metadata": {},
   "outputs": [],
   "source": [
    "token_1, token_2 = 'szuka', 'kruka'\n",
    "n_syl_1 = token_parser.count_syllables(token_1)\n",
    "n_syl_2 = token_parser.count_syllables(token_2)"
   ]
  },
  {
   "cell_type": "code",
   "execution_count": 8,
   "metadata": {},
   "outputs": [],
   "source": [
    "# Warning: possibility of raising NoRhyme exc\n",
    "try:\n",
    "    print(poetry_generator.generate_rhyme(token_1, token_2, tagged_tokens,\n",
    "                                          unigrams, tag_sets,\n",
    "                                          n_syllables_1=n_syl_1,\n",
    "                                          n_syllables_2=n_syl_2))\n",
    "except NoRhyme:\n",
    "    pass"
   ]
  },
  {
   "cell_type": "markdown",
   "metadata": {},
   "source": [
    "### Deleting interpunction marks"
   ]
  },
  {
   "cell_type": "code",
   "execution_count": 9,
   "metadata": {},
   "outputs": [
    {
     "data": {
      "text/plain": [
       "['Litwo', 'Ojczyzno', 'moja', 'ty', 'jesteś', 'jak', 'zdrowie']"
      ]
     },
     "execution_count": 9,
     "metadata": {},
     "output_type": "execute_result"
    }
   ],
   "source": [
    "sentence_parser.delete_interpunction('Litwo! Ojczyzno moja? ty, jesteś jak zdrowie.')"
   ]
  },
  {
   "cell_type": "markdown",
   "metadata": {},
   "source": [
    "### Generate two verses"
   ]
  },
  {
   "cell_type": "code",
   "execution_count": 10,
   "metadata": {},
   "outputs": [],
   "source": [
    "s1 = 'Litwo! Ojczyzno moja! ty jesteś jak zdrowie'\n",
    "s2 = 'Ile cię trzeba cenić, ten tylko się dowie'"
   ]
  },
  {
   "cell_type": "code",
   "execution_count": 11,
   "metadata": {},
   "outputs": [],
   "source": [
    "verses_1, meta_1 = poetry_generator.generate_rhymed_sentences(s1, s2, tagged_tokens,\n",
    "                                                              unigrams, bigrams, tag_sets)"
   ]
  },
  {
   "cell_type": "code",
   "execution_count": 12,
   "metadata": {},
   "outputs": [
    {
     "name": "stdout",
     "output_type": "stream",
     "text": [
      "Gestio paolo która ty żyjesz jak zdrowie \n",
      " ile cię wcale szukać nasz bardzo się dowie\n",
      "tagged | predicted | tagged | tagged tagged tagged tagged \n",
      " tagged tagged tagged tagged | tagged tagged tagged tagged\n"
     ]
    }
   ],
   "source": [
    "print(verses_1)\n",
    "print(meta_1)"
   ]
  },
  {
   "cell_type": "code",
   "execution_count": 13,
   "metadata": {},
   "outputs": [],
   "source": [
    "verses_2, meta_2 = poetry_generator.generate_rhymed_sentences(s1, s2, tagged_tokens,\n",
    "                                                              unigrams, bigrams, tag_sets,\n",
    "                                                              continuations=10)"
   ]
  },
  {
   "cell_type": "code",
   "execution_count": 14,
   "metadata": {},
   "outputs": [
    {
     "name": "stdout",
     "output_type": "stream",
     "text": [
      "Warto puerto która ty jesteś jak zdrowie \n",
      " ile cię więcej wpłacać ten nigdy się dowie\n",
      "tagged | predicted | tagged | tagged tagged tagged not_replaced \n",
      " tagged tagged tagged tagged | tagged tagged tagged not_replaced\n"
     ]
    }
   ],
   "source": [
    "print(verses_2)\n",
    "print(meta_2)"
   ]
  },
  {
   "cell_type": "markdown",
   "metadata": {},
   "source": [
    "### Final poetry generation"
   ]
  },
  {
   "cell_type": "code",
   "execution_count": 15,
   "metadata": {},
   "outputs": [],
   "source": [
    "frag_1 = \"\"\"Litwo! Ojczyzno moja! ty jesteś jak zdrowie:\n",
    "            Ile cię trzeba cenić, ten tylko się dowie,\n",
    "            Kto cię stracił. Dziś piękność twą w całej ozdobie\n",
    "            Widzę i opisuję, bo tęsknię po tobie.\"\"\""
   ]
  },
  {
   "cell_type": "code",
   "execution_count": 16,
   "metadata": {
    "scrolled": true
   },
   "outputs": [],
   "source": [
    "frag_1_1, frag_1_1_meta = poetry_generator.generate_frag_of_poetry(frag_1,\n",
    "                                                                   tagged_tokens,\n",
    "                                                                   unigrams,\n",
    "                                                                   bigrams, tag_sets)"
   ]
  },
  {
   "cell_type": "code",
   "execution_count": 17,
   "metadata": {},
   "outputs": [
    {
     "name": "stdout",
     "output_type": "stream",
     "text": [
      "Warto mauro która ty jesteś jak zdrowie \n",
      " ile cię trochę kręcić ten oto dziś dowie\n",
      "Kto cię stracił na wolność swą w tylnej osobie \n",
      " widzę na informuję o pragnę na tobie\n",
      "tagged | predicted | tagged | tagged tagged tagged tagged \n",
      " tagged tagged tagged tagged | tagged tagged tagged tagged\n",
      "tagged tagged tagged predicted tagged | tagged tagged tagged tagged \n",
      " tagged tagged | tagged tagged | tagged tagged tagged\n"
     ]
    }
   ],
   "source": [
    "print(frag_1_1)\n",
    "print(frag_1_1_meta)"
   ]
  },
  {
   "cell_type": "code",
   "execution_count": 18,
   "metadata": {},
   "outputs": [],
   "source": [
    "frag_1_2, frag_1_2_meta = poetry_generator.generate_frag_of_poetry(frag_1,\n",
    "                                                                   tagged_tokens,\n",
    "                                                                   unigrams,\n",
    "                                                                   bigrams, tag_sets,\n",
    "                                                                   continuations=10)"
   ]
  },
  {
   "cell_type": "code",
   "execution_count": 19,
   "metadata": {},
   "outputs": [
    {
     "name": "stdout",
     "output_type": "stream",
     "text": [
      "Sporo marino która ty jesteś jak zdrowie \n",
      " ile cię jako budzić nasz zawsze się dowie\n",
      "Kto cię stracił na sprzedaż swą w całej chorobie \n",
      " widzę więc informuję że mogę się tobie\n",
      "tagged | predicted | tagged | tagged tagged tagged tagged \n",
      " tagged tagged tagged | tagged tagged tagged tagged tagged\n",
      "tagged tagged tagged predicted tagged | tagged tagged tagged tagged \n",
      " tagged tagged tagged tagged tagged tagged tagged\n"
     ]
    }
   ],
   "source": [
    "print(frag_1_2)\n",
    "print(frag_1_2_meta)"
   ]
  },
  {
   "cell_type": "code",
   "execution_count": 20,
   "metadata": {},
   "outputs": [],
   "source": [
    "frag_2 = \"\"\"Śród takich pól przed laty, nad brzegiem ruczaju,\n",
    "            Na pagórku niewielkim, we brzozowym gaju,\n",
    "            Stał dwór szlachecki, z drzewa, lecz podmurowany;\n",
    "            Świeciły się z daleka pobielane ściany,\n",
    "            Tym bielsze, że odbite od ciemnej zieleni\n",
    "            Topoli, co go bronią od wiatrów jesieni.\"\"\""
   ]
  },
  {
   "cell_type": "code",
   "execution_count": 21,
   "metadata": {
    "scrolled": true
   },
   "outputs": [],
   "source": [
    "frag_2_1, frag_2_1_meta = poetry_generator.generate_frag_of_poetry(frag_2,\n",
    "                                                                   tagged_tokens,\n",
    "                                                                   unigrams,\n",
    "                                                                   bigrams, tag_sets)"
   ]
  },
  {
   "cell_type": "code",
   "execution_count": 22,
   "metadata": {},
   "outputs": [
    {
     "name": "stdout",
     "output_type": "stream",
     "text": [
      "Klęsk których państw i biały i faktem funduszu \n",
      " i teatrze niezgodnym czcze kontrolnym tuszu\n",
      "Stał młyn zbożowy w słowa lecz importowany \n",
      " uczyły się z daleka popełnione zmiany\n",
      "Tym większe i mieszane i pitnej przyjaźni \n",
      " mleczarni co go płacą za rządów bojaźni\n",
      "tagged | tagged tagged tagged predicted tagged tagged tagged \n",
      " tagged tagged | tagged | predicted | tagged tagged\n",
      "tagged tagged tagged tagged tagged | tagged tagged \n",
      " tagged tagged tagged tagged | tagged tagged\n",
      "tagged tagged tagged tagged tagged tagged tagged \n",
      " tagged | tagged tagged tagged tagged tagged tagged\n"
     ]
    }
   ],
   "source": [
    "print(frag_2_1)\n",
    "print(frag_2_1_meta)"
   ]
  },
  {
   "cell_type": "code",
   "execution_count": 23,
   "metadata": {},
   "outputs": [],
   "source": [
    "frag_2_2, frag_2_2_meta = poetry_generator.generate_frag_of_poetry(frag_2,\n",
    "                                                                   tagged_tokens,\n",
    "                                                                   unigrams,\n",
    "                                                                   bigrams, tag_sets,\n",
    "                                                                   continuations=10)"
   ]
  },
  {
   "cell_type": "code",
   "execution_count": 24,
   "metadata": {},
   "outputs": [
    {
     "name": "stdout",
     "output_type": "stream",
     "text": [
      "And naszych wojsk i stromy i potem kierunku \n",
      " na terenie niezbędnym cne powszechnym trunku\n",
      "Stał gród obronny w miejsca praw proponowany \n",
      " trzymały się z rostowa prowadzone ściany\n",
      "Tym większe i rozmyte i ciemnej przyjaźni \n",
      " fundacji co go bronią i krzewów bojaźni\n",
      "tagged | tagged tagged tagged predicted tagged tagged tagged \n",
      " tagged tagged | tagged | predicted | tagged tagged\n",
      "tagged tagged tagged tagged tagged | tagged tagged \n",
      " tagged tagged tagged tagged | tagged tagged\n",
      "tagged tagged tagged tagged tagged tagged tagged \n",
      " tagged tagged tagged tagged tagged tagged tagged\n"
     ]
    }
   ],
   "source": [
    "print(frag_2_2)\n",
    "print(frag_2_2_meta)"
   ]
  },
  {
   "cell_type": "code",
   "execution_count": null,
   "metadata": {},
   "outputs": [],
   "source": []
  }
 ],
 "metadata": {
  "kernelspec": {
   "display_name": "Python 3",
   "language": "python",
   "name": "python3"
  },
  "language_info": {
   "codemirror_mode": {
    "name": "ipython",
    "version": 3
   },
   "file_extension": ".py",
   "mimetype": "text/x-python",
   "name": "python",
   "nbconvert_exporter": "python",
   "pygments_lexer": "ipython3",
   "version": "3.6.5"
  }
 },
 "nbformat": 4,
 "nbformat_minor": 2
}
