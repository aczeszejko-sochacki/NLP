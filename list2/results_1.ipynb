{
 "cells": [
  {
   "cell_type": "markdown",
   "metadata": {},
   "source": [
    "# Natural Language Processing"
   ]
  },
  {
   "cell_type": "markdown",
   "metadata": {},
   "source": [
    "### List 2"
   ]
  },
  {
   "cell_type": "code",
   "execution_count": 1,
   "metadata": {},
   "outputs": [],
   "source": [
    "import os\n",
    "from src.parsers.text_parser import TextParser\n",
    "from src.naive_bayes_text_classificator import NaiveBayesText\n",
    "from sklearn.metrics import accuracy_score\n",
    "from typing import Tuple, List"
   ]
  },
  {
   "cell_type": "markdown",
   "metadata": {},
   "source": [
    "## Create required objects, structures etc."
   ]
  },
  {
   "cell_type": "code",
   "execution_count": 2,
   "metadata": {},
   "outputs": [],
   "source": [
    "text_parser = TextParser()"
   ]
  },
  {
   "cell_type": "code",
   "execution_count": 3,
   "metadata": {},
   "outputs": [],
   "source": [
    "orzeszkowa_unigrams = text_parser.parse_text_file('korpus_orzeszkowej.txt',\n",
    "                                                  text_name='Orzeszkowa')\n",
    "prus_unigrams = text_parser.parse_text_file('korpus_prusa.txt',\n",
    "                                            text_name='Prus')\n",
    "sienkiewicz_unigrams = text_parser.parse_text_file('korpus_sienkiewicza.txt',\n",
    "                                                   text_name='Sienkiewicz')"
   ]
  },
  {
   "cell_type": "code",
   "execution_count": 4,
   "metadata": {},
   "outputs": [
    {
     "data": {
      "text/plain": [
       "{'Jędza': 2, 'powieść': 2}"
      ]
     },
     "execution_count": 4,
     "metadata": {},
     "output_type": "execute_result"
    }
   ],
   "source": [
    "# A part of generated orzeszkowa unigrams\n",
    "dict(list(orzeszkowa_unigrams.unigrams.items())[0:2])"
   ]
  },
  {
   "cell_type": "code",
   "execution_count": 5,
   "metadata": {},
   "outputs": [],
   "source": [
    "all_targets = (orzeszkowa_unigrams, prus_unigrams, sienkiewicz_unigrams)"
   ]
  },
  {
   "cell_type": "code",
   "execution_count": 6,
   "metadata": {},
   "outputs": [],
   "source": [
    "naive_bayes = NaiveBayesText(all_targets)"
   ]
  },
  {
   "cell_type": "markdown",
   "metadata": {},
   "source": [
    "### Add optional features to the model"
   ]
  },
  {
   "cell_type": "code",
   "execution_count": 7,
   "metadata": {},
   "outputs": [],
   "source": [
    "def create_feature(feature_name: str, mark: str) -> Tuple:\n",
    "    feature_values = (text_parser.count_mark('korpus_orzeszkowej.txt', mark),\n",
    "                      text_parser.count_mark('korpus_prusa.txt', mark),\n",
    "                      text_parser.count_mark('korpus_sienkiewicza.txt', mark))\n",
    "    \n",
    "    return (feature_name, feature_values)"
   ]
  },
  {
   "cell_type": "code",
   "execution_count": 8,
   "metadata": {},
   "outputs": [],
   "source": [
    "features_meta = (('dash', '—'), ('space', ' '), ('exclamation_mark', '!'),\n",
    "                 ('question_mark', '?'), ('dot', '.'))\n",
    "additional_features = tuple([create_feature(feature_name, mark)\n",
    "                             for feature_name, mark in features_meta])"
   ]
  },
  {
   "cell_type": "code",
   "execution_count": 9,
   "metadata": {},
   "outputs": [
    {
     "data": {
      "text/plain": [
       "(('dash', (5722, 8652, 2078)),\n",
       " ('space', (223428, 169477, 82381)),\n",
       " ('exclamation_mark', (4060, 2500, 847)),\n",
       " ('question_mark', (1760, 2062, 631)),\n",
       " ('dot', (12812, 10643, 4793)))"
      ]
     },
     "execution_count": 9,
     "metadata": {},
     "output_type": "execute_result"
    }
   ],
   "source": [
    "additional_features"
   ]
  },
  {
   "cell_type": "markdown",
   "metadata": {},
   "source": [
    "### Fit the model"
   ]
  },
  {
   "cell_type": "code",
   "execution_count": 10,
   "metadata": {},
   "outputs": [],
   "source": [
    "model = naive_bayes.fit(new_features=additional_features)"
   ]
  },
  {
   "cell_type": "code",
   "execution_count": 11,
   "metadata": {},
   "outputs": [
    {
     "data": {
      "text/html": [
       "<div>\n",
       "<style scoped>\n",
       "    .dataframe tbody tr th:only-of-type {\n",
       "        vertical-align: middle;\n",
       "    }\n",
       "\n",
       "    .dataframe tbody tr th {\n",
       "        vertical-align: top;\n",
       "    }\n",
       "\n",
       "    .dataframe thead th {\n",
       "        text-align: right;\n",
       "    }\n",
       "</style>\n",
       "<table border=\"1\" class=\"dataframe\">\n",
       "  <thead>\n",
       "    <tr style=\"text-align: right;\">\n",
       "      <th></th>\n",
       "      <th>Orzeszkowa</th>\n",
       "      <th>Prus</th>\n",
       "      <th>Sienkiewicz</th>\n",
       "    </tr>\n",
       "  </thead>\n",
       "  <tbody>\n",
       "    <tr>\n",
       "      <th>puch</th>\n",
       "      <td>7.066354e-07</td>\n",
       "      <td>0.0</td>\n",
       "      <td>0.000000</td>\n",
       "    </tr>\n",
       "    <tr>\n",
       "      <th>trzymającem</th>\n",
       "      <td>7.066354e-07</td>\n",
       "      <td>0.0</td>\n",
       "      <td>0.000000</td>\n",
       "    </tr>\n",
       "    <tr>\n",
       "      <th>nieprzystojnego</th>\n",
       "      <td>7.066354e-07</td>\n",
       "      <td>0.0</td>\n",
       "      <td>0.000000</td>\n",
       "    </tr>\n",
       "    <tr>\n",
       "      <th>synowca</th>\n",
       "      <td>1.413271e-06</td>\n",
       "      <td>0.0</td>\n",
       "      <td>0.000002</td>\n",
       "    </tr>\n",
       "    <tr>\n",
       "      <th>tarcza</th>\n",
       "      <td>2.119906e-06</td>\n",
       "      <td>0.0</td>\n",
       "      <td>0.000002</td>\n",
       "    </tr>\n",
       "  </tbody>\n",
       "</table>\n",
       "</div>"
      ],
      "text/plain": [
       "                   Orzeszkowa  Prus  Sienkiewicz\n",
       "puch             7.066354e-07   0.0     0.000000\n",
       "trzymającem      7.066354e-07   0.0     0.000000\n",
       "nieprzystojnego  7.066354e-07   0.0     0.000000\n",
       "synowca          1.413271e-06   0.0     0.000002\n",
       "tarcza           2.119906e-06   0.0     0.000002"
      ]
     },
     "execution_count": 11,
     "metadata": {},
     "output_type": "execute_result"
    }
   ],
   "source": [
    "# Print some values of the model\n",
    "model.head()"
   ]
  },
  {
   "cell_type": "code",
   "execution_count": 12,
   "metadata": {},
   "outputs": [
    {
     "name": "stdout",
     "output_type": "stream",
     "text": [
      "[0.33333333 0.33333333 0.33333333]\n"
     ]
    }
   ],
   "source": [
    "# Ensure the values are normalized\n",
    "print(model.values.sum(0))"
   ]
  },
  {
   "cell_type": "markdown",
   "metadata": {},
   "source": [
    "## Test our Naive Bayes Classificator"
   ]
  },
  {
   "cell_type": "code",
   "execution_count": 13,
   "metadata": {},
   "outputs": [],
   "source": [
    "# Splitted data\n",
    "validation_data = os.listdir(os.path.join(os.getcwd(), 'data',\n",
    "                                          'dane_pozytywistyczne',\n",
    "                                          'testy1', 'validation_data'))\n",
    "\n",
    "test_data = os.listdir(os.path.join(os.getcwd(), 'data', 'dane_pozytywistyczne',\n",
    "                                    'testy1', 'test_data'))"
   ]
  },
  {
   "cell_type": "code",
   "execution_count": 14,
   "metadata": {},
   "outputs": [],
   "source": [
    "# Check classifier on the data\n",
    "def check_naive_bayes(test_paths: List, test_parent_dir: str) -> Tuple:\n",
    "    y_true, y_pred = [], []\n",
    "\n",
    "    for test in test_paths:\n",
    "        if 'orzeszkowej' in test:\n",
    "            true_target = 'Orzeszkowa'\n",
    "        elif 'prus' in test:\n",
    "            true_target = 'Prus'\n",
    "        else:\n",
    "            true_target = 'Sienkiewicz'\n",
    "\n",
    "        y_true.append(true_target)\n",
    "\n",
    "        unigrams_test = text_parser.parse_text_file(os.path.join('testy1',\n",
    "                                                                 test_parent_dir,\n",
    "                                                                 test))\n",
    "        pred_target = naive_bayes.predict(model, unigrams_test)\n",
    "        y_pred.append(pred_target)\n",
    "        \n",
    "    return y_true, y_pred"
   ]
  },
  {
   "cell_type": "markdown",
   "metadata": {},
   "source": [
    "### Experiment on validation data"
   ]
  },
  {
   "cell_type": "code",
   "execution_count": 15,
   "metadata": {},
   "outputs": [],
   "source": [
    "validation_targets = check_naive_bayes(validation_data, 'validation_data')"
   ]
  },
  {
   "cell_type": "code",
   "execution_count": 16,
   "metadata": {
    "scrolled": true
   },
   "outputs": [
    {
     "data": {
      "text/plain": [
       "0.6666666666666666"
      ]
     },
     "execution_count": 16,
     "metadata": {},
     "output_type": "execute_result"
    }
   ],
   "source": [
    "accuracy_score(*validation_targets)"
   ]
  },
  {
   "cell_type": "markdown",
   "metadata": {},
   "source": [
    "### Experiment on test data"
   ]
  },
  {
   "cell_type": "code",
   "execution_count": 17,
   "metadata": {},
   "outputs": [],
   "source": [
    "test_targets = check_naive_bayes(test_data, 'test_data')"
   ]
  },
  {
   "cell_type": "code",
   "execution_count": 18,
   "metadata": {},
   "outputs": [
    {
     "data": {
      "text/plain": [
       "0.8461538461538461"
      ]
     },
     "execution_count": 18,
     "metadata": {},
     "output_type": "execute_result"
    }
   ],
   "source": [
    "accuracy_score(*test_targets)"
   ]
  },
  {
   "cell_type": "code",
   "execution_count": null,
   "metadata": {},
   "outputs": [],
   "source": []
  }
 ],
 "metadata": {
  "kernelspec": {
   "display_name": "Python 3",
   "language": "python",
   "name": "python3"
  },
  "language_info": {
   "codemirror_mode": {
    "name": "ipython",
    "version": 3
   },
   "file_extension": ".py",
   "mimetype": "text/x-python",
   "name": "python",
   "nbconvert_exporter": "python",
   "pygments_lexer": "ipython3",
   "version": "3.6.5"
  }
 },
 "nbformat": 4,
 "nbformat_minor": 2
}
