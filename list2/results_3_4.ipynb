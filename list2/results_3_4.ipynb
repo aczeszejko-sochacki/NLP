{
 "cells": [
  {
   "cell_type": "markdown",
   "metadata": {},
   "source": [
    "# Natural Language Processing"
   ]
  },
  {
   "cell_type": "markdown",
   "metadata": {},
   "source": [
    "## List 2"
   ]
  },
  {
   "cell_type": "code",
   "execution_count": 26,
   "metadata": {},
   "outputs": [],
   "source": [
    "from src.tag_generator import TagGeneratorUni, TagGeneratorBi\n",
    "from src.parsers.tag_parser import TagParser\n",
    "from src.parsers.unigram_parser import UnigramParser\n",
    "from src.parsers.bigram_parser import BigramParser"
   ]
  },
  {
   "cell_type": "markdown",
   "metadata": {},
   "source": [
    "### Create required objects, structures etc."
   ]
  },
  {
   "cell_type": "code",
   "execution_count": 27,
   "metadata": {},
   "outputs": [],
   "source": [
    "tag_parser = TagParser()\n",
    "unigrams_parser = UnigramParser('poleval_2grams.txt')\n",
    "bigrams_parser = BigramParser('poleval_2grams.txt')\n",
    "tag_generator_uni = TagGeneratorUni()\n",
    "tag_generator_bi = TagGeneratorBi()"
   ]
  },
  {
   "cell_type": "code",
   "execution_count": 28,
   "metadata": {},
   "outputs": [],
   "source": [
    "tagged_tokens = tag_parser.create_tag_token_pairs()\n",
    "tag_sets = tag_parser.create_tags_struct()"
   ]
  },
  {
   "cell_type": "code",
   "execution_count": 29,
   "metadata": {},
   "outputs": [
    {
     "data": {
      "text/plain": [
       "{'zapachnie': 'T3182', 'wchłaniałbyś': 'T904'}"
      ]
     },
     "execution_count": 29,
     "metadata": {},
     "output_type": "execute_result"
    }
   ],
   "source": [
    "# A part of tagged_tokens\n",
    "dict(list(tagged_tokens.tagged_tokens.items())[0:2])"
   ]
  },
  {
   "cell_type": "code",
   "execution_count": 30,
   "metadata": {},
   "outputs": [],
   "source": [
    "unigrams = unigrams_parser.create_unigrams_struct().unigrams"
   ]
  },
  {
   "cell_type": "code",
   "execution_count": 31,
   "metadata": {},
   "outputs": [
    {
     "data": {
      "text/plain": [
       "{'operatora': 12838, 'zarówno': 292192}"
      ]
     },
     "execution_count": 31,
     "metadata": {},
     "output_type": "execute_result"
    }
   ],
   "source": [
    "# A part of unigrams_struct\n",
    "dict(list(unigrams.items())[0:2])"
   ]
  },
  {
   "cell_type": "code",
   "execution_count": 32,
   "metadata": {},
   "outputs": [],
   "source": [
    "bigrams = bigrams_parser.create_bigrams_struct(k=3).bigrams"
   ]
  },
  {
   "cell_type": "code",
   "execution_count": 33,
   "metadata": {
    "scrolled": false
   },
   "outputs": [
    {
     "data": {
      "text/plain": [
       "{'rozdrobniona': [('sieć', 11),\n",
       "  ('i', 12),\n",
       "  ('.', 17),\n",
       "  (',', 23),\n",
       "  ('struktura', 32),\n",
       "  ('na', 6)],\n",
       " 'świadectwem': [(',', 87),\n",
       "  ('.', 41),\n",
       "  ('z', 7),\n",
       "  ('o', 13),\n",
       "  ('i', 25),\n",
       "  ('wiary', 22),\n",
       "  ('nawrócenia', 4),\n",
       "  ('tamtych', 4),\n",
       "  ('był', 7),\n",
       "  ('były', 6),\n",
       "  ('było', 5),\n",
       "  ('wielkiej', 9),\n",
       "  ('prawdy', 4),\n",
       "  ('jakości', 7),\n",
       "  ('obecności', 8),\n",
       "  ('istnienia', 14),\n",
       "  ('kultu', 8),\n",
       "  ('tej', 6),\n",
       "  ('naszej', 10),\n",
       "  ('są', 41),\n",
       "  ('braku', 11),\n",
       "  ('ich', 23),\n",
       "  ('słabości', 7),\n",
       "  ('szczepienia', 4),\n",
       "  ('naszego', 4),\n",
       "  ('tych', 11),\n",
       "  ('rozwoju', 5),\n",
       "  ('uzyskania', 19),\n",
       "  ('jednej', 4),\n",
       "  ('woli', 5),\n",
       "  ('jej', 9),\n",
       "  ('jego', 25),\n",
       "  ('szkoły', 4),\n",
       "  ('przeszłości', 7),\n",
       "  ('życia', 15),\n",
       "  ('wielowiekowej', 4),\n",
       "  ('upadku', 4),\n",
       "  ('złego', 6),\n",
       "  ('dojrzałości', 25),\n",
       "  ('dawnej', 7),\n",
       "  ('pochodzenia', 6),\n",
       "  ('udziałowym', 6),\n",
       "  ('wzrostu', 4),\n",
       "  ('po', 6),\n",
       "  ('miłości', 4),\n",
       "  ('wydanym', 10),\n",
       "  ('historycznym', 4),\n",
       "  ('pracy', 30),\n",
       "  ('jest', 42),\n",
       "  ('głębokiej', 4),\n",
       "  ('na', 10),\n",
       "  ('żywotności', 4),\n",
       "  ('tego', 118),\n",
       "  ('zdrowia', 11),\n",
       "  ('uznania', 4),\n",
       "  ('lub', 9),\n",
       "  ('zaangażowania', 4),\n",
       "  ('nie', 8),\n",
       "  ('dla', 7),\n",
       "  ('ukończenia', 45),\n",
       "  ('potwierdzającym', 9),\n",
       "  ('historii', 19),\n",
       "  ('kwalifikacji', 7),\n",
       "  ('bogactwa', 5),\n",
       "  ('energetycznym', 4),\n",
       "  ('dobrej', 4),\n",
       "  ('czeladniczym', 22),\n",
       "  ('wielkiego', 5),\n",
       "  ('homologacji', 5),\n",
       "  ('wzorcowania', 4),\n",
       "  ('epoki', 5),\n",
       "  ('kultury', 8)]}"
      ]
     },
     "execution_count": 33,
     "metadata": {},
     "output_type": "execute_result"
    }
   ],
   "source": [
    "# A part of bigrams_struct\n",
    "dict(list(bigrams.items())[0:2])"
   ]
  },
  {
   "cell_type": "markdown",
   "metadata": {},
   "source": [
    "### Make some tests"
   ]
  },
  {
   "cell_type": "markdown",
   "metadata": {},
   "source": [
    "#### To simplify the problem assume, that there is no punctuation mark within the sentence (easy to handle it). The pipe shows breaking bigrams continuations. The question mark tells us, that the coresponding word is not tagged in supertags.txt"
   ]
  },
  {
   "cell_type": "code",
   "execution_count": 34,
   "metadata": {},
   "outputs": [],
   "source": [
    "s1 = 'Mały Piotruś spotkał w niewielkiej restauracyjce wczoraj poznaną \\\n",
    "      koleżankę'"
   ]
  },
  {
   "cell_type": "markdown",
   "metadata": {},
   "source": [
    "#### Unigrams"
   ]
  },
  {
   "cell_type": "code",
   "execution_count": 35,
   "metadata": {},
   "outputs": [
    {
     "data": {
      "text/plain": [
       "'Bosy ? spowodował nieco niezbędnej wojnie z zwiększoną historię'"
      ]
     },
     "execution_count": 35,
     "metadata": {},
     "output_type": "execute_result"
    }
   ],
   "source": [
    "tag_generator_uni.generate_sentence_coresponding_tags(s1, tagged_tokens,\n",
    "                                                      unigrams, tag_sets)"
   ]
  },
  {
   "cell_type": "markdown",
   "metadata": {},
   "source": [
    "#### Bigrams"
   ]
  },
  {
   "cell_type": "code",
   "execution_count": 36,
   "metadata": {},
   "outputs": [
    {
     "data": {
      "text/plain": [
       "'Wiosenny ?  |  zajął się nielegalnej  |  formie na dokonaną analizę'"
      ]
     },
     "execution_count": 36,
     "metadata": {},
     "output_type": "execute_result"
    }
   ],
   "source": [
    "tag_generator_bi.generate_sentence_coresponding_tags(s1, tagged_tokens,\n",
    "                                                     unigrams, bigrams,\n",
    "                                                     tag_sets)"
   ]
  },
  {
   "cell_type": "code",
   "execution_count": 37,
   "metadata": {},
   "outputs": [
    {
     "data": {
      "text/plain": [
       "'Francuski ?  |  odziedziczył po niedzielnej porażce z planowaną inflację'"
      ]
     },
     "execution_count": 37,
     "metadata": {},
     "output_type": "execute_result"
    }
   ],
   "source": [
    "tag_generator_bi.generate_sentence_coresponding_tags(s1, tagged_tokens,\n",
    "                                                     unigrams, bigrams,\n",
    "                                                     tag_sets,\n",
    "                                                     continuations=10)"
   ]
  },
  {
   "cell_type": "code",
   "execution_count": 55,
   "metadata": {},
   "outputs": [
    {
     "data": {
      "text/plain": [
       "'Szczegółowy ?  |  założył w niebezpiecznej przygodzie z wyłączoną obsługę'"
      ]
     },
     "execution_count": 55,
     "metadata": {},
     "output_type": "execute_result"
    }
   ],
   "source": [
    "tag_generator_bi.generate_sentence_coresponding_tags(s1, tagged_tokens,\n",
    "                                                     unigrams, bigrams,\n",
    "                                                     tag_sets,\n",
    "                                                     continuations=100)"
   ]
  },
  {
   "cell_type": "code",
   "execution_count": 38,
   "metadata": {},
   "outputs": [],
   "source": [
    "s2 = 'W zadaniu tym powinieneś losować zdania o słowach z identyczną \\\n",
    "      charakterystyką gramatyczną jak zdanie wejściowe'"
   ]
  },
  {
   "cell_type": "markdown",
   "metadata": {},
   "source": [
    "####  Unigrams"
   ]
  },
  {
   "cell_type": "code",
   "execution_count": 39,
   "metadata": {},
   "outputs": [
    {
     "data": {
      "text/plain": [
       "'Na brzmieniu tym powinieneś obserwować panowania na mistrzostwach ze całą scenografią germanizacyjną jak wsparcie termalne'"
      ]
     },
     "execution_count": 39,
     "metadata": {},
     "output_type": "execute_result"
    }
   ],
   "source": [
    "tag_generator_uni.generate_sentence_coresponding_tags(s2, tagged_tokens,\n",
    "                                                      unigrams, tag_sets)"
   ]
  },
  {
   "cell_type": "markdown",
   "metadata": {},
   "source": [
    "####  Bigrams"
   ]
  },
  {
   "cell_type": "code",
   "execution_count": 40,
   "metadata": {},
   "outputs": [
    {
     "data": {
      "text/plain": [
       "'W oparciu  |  swoim  |  powinieneś znać zagrożenia na mistrzostwach w ziemską  |  realizacją  |  kolejną  |  jak nauczanie indywidualne'"
      ]
     },
     "execution_count": 40,
     "metadata": {},
     "output_type": "execute_result"
    }
   ],
   "source": [
    "tag_generator_bi.generate_sentence_coresponding_tags(s2, tagged_tokens,\n",
    "                                                     unigrams, bigrams,\n",
    "                                                     tag_sets)"
   ]
  },
  {
   "cell_type": "code",
   "execution_count": 41,
   "metadata": {},
   "outputs": [
    {
     "data": {
      "text/plain": [
       "'Ze  |  imieniu swoim  |  powinieneś kierować pytania i cierpieniach i właściwą realizacją  |  rządową  |  owad  |  kształtowanie  |  wschodnie'"
      ]
     },
     "execution_count": 41,
     "metadata": {},
     "output_type": "execute_result"
    }
   ],
   "source": [
    "tag_generator_bi.generate_sentence_coresponding_tags(s2, tagged_tokens,\n",
    "                                                     unigrams, bigrams,\n",
    "                                                     tag_sets,\n",
    "                                                     continuations=10)"
   ]
  },
  {
   "cell_type": "code",
   "execution_count": 56,
   "metadata": {},
   "outputs": [
    {
     "data": {
      "text/plain": [
       "'W otoczeniu  |  jednym  |  powinieneś robić zdjęcia i zwichnięciach  |  się regionalną kasą krajową  |  jak stężenie masowe'"
      ]
     },
     "execution_count": 56,
     "metadata": {},
     "output_type": "execute_result"
    }
   ],
   "source": [
    "tag_generator_bi.generate_sentence_coresponding_tags(s2, tagged_tokens,\n",
    "                                                     unigrams, bigrams,\n",
    "                                                     tag_sets,\n",
    "                                                     continuations=100)"
   ]
  },
  {
   "cell_type": "code",
   "execution_count": 42,
   "metadata": {},
   "outputs": [],
   "source": [
    "s3 = 'Na następnym skrzyżowaniu skręć w lewo'"
   ]
  },
  {
   "cell_type": "markdown",
   "metadata": {},
   "source": [
    "#### Unigrams"
   ]
  },
  {
   "cell_type": "code",
   "execution_count": 43,
   "metadata": {},
   "outputs": [
    {
     "data": {
      "text/plain": [
       "'Że umiarkowanym uzgodnieniu wzdłuż i prosto'"
      ]
     },
     "execution_count": 43,
     "metadata": {},
     "output_type": "execute_result"
    }
   ],
   "source": [
    "tag_generator_uni.generate_sentence_coresponding_tags(s3, tagged_tokens,\n",
    "                                                      unigrams, tag_sets)"
   ]
  },
  {
   "cell_type": "markdown",
   "metadata": {},
   "source": [
    "#### Bigrams"
   ]
  },
  {
   "cell_type": "code",
   "execution_count": 44,
   "metadata": {
    "scrolled": false
   },
   "outputs": [
    {
     "data": {
      "text/plain": [
       "'Mianowicie  |  podstawowym znaczeniu wręcz przeciwnie  |  warto'"
      ]
     },
     "execution_count": 44,
     "metadata": {},
     "output_type": "execute_result"
    }
   ],
   "source": [
    "tag_generator_bi.generate_sentence_coresponding_tags(s3, tagged_tokens,\n",
    "                                                     unigrams, bigrams,\n",
    "                                                     tag_sets)"
   ]
  },
  {
   "cell_type": "code",
   "execution_count": 45,
   "metadata": {},
   "outputs": [
    {
     "data": {
      "text/plain": [
       "'I rosyjskim embargu  |  wzdłuż na serio'"
      ]
     },
     "execution_count": 45,
     "metadata": {},
     "output_type": "execute_result"
    }
   ],
   "source": [
    "tag_generator_bi.generate_sentence_coresponding_tags(s3, tagged_tokens,\n",
    "                                                     unigrams, bigrams,\n",
    "                                                     tag_sets,\n",
    "                                                     continuations=10)"
   ]
  },
  {
   "cell_type": "code",
   "execution_count": 57,
   "metadata": {},
   "outputs": [
    {
     "data": {
      "text/plain": [
       "'Nad powiatowym  |  postępowaniu  |  wręcz najbardziej warto'"
      ]
     },
     "execution_count": 57,
     "metadata": {},
     "output_type": "execute_result"
    }
   ],
   "source": [
    "tag_generator_bi.generate_sentence_coresponding_tags(s3, tagged_tokens,\n",
    "                                                     unigrams, bigrams,\n",
    "                                                     tag_sets,\n",
    "                                                     continuations=100)"
   ]
  },
  {
   "cell_type": "code",
   "execution_count": 46,
   "metadata": {},
   "outputs": [],
   "source": [
    "s4 = 'Nie ma absolutnie żadnych ograniczeń prawnych'"
   ]
  },
  {
   "cell_type": "markdown",
   "metadata": {},
   "source": [
    "####  Unigrams"
   ]
  },
  {
   "cell_type": "code",
   "execution_count": 47,
   "metadata": {},
   "outputs": [
    {
     "data": {
      "text/plain": [
       "'Nie ma na których narzędzi sztywnych'"
      ]
     },
     "execution_count": 47,
     "metadata": {},
     "output_type": "execute_result"
    }
   ],
   "source": [
    "tag_generator_uni.generate_sentence_coresponding_tags(s4, tagged_tokens,\n",
    "                                                      unigrams, tag_sets)"
   ]
  },
  {
   "cell_type": "markdown",
   "metadata": {},
   "source": [
    "#### Bigrams"
   ]
  },
  {
   "cell_type": "code",
   "execution_count": 48,
   "metadata": {},
   "outputs": [
    {
     "data": {
      "text/plain": [
       "'Nie ma więc takich działań poszczególnych'"
      ]
     },
     "execution_count": 48,
     "metadata": {},
     "output_type": "execute_result"
    }
   ],
   "source": [
    "tag_generator_bi.generate_sentence_coresponding_tags(s4, tagged_tokens,\n",
    "                                                     unigrams, bigrams,\n",
    "                                                     tag_sets)"
   ]
  },
  {
   "cell_type": "code",
   "execution_count": 49,
   "metadata": {},
   "outputs": [
    {
     "data": {
      "text/plain": [
       "'Nie ma na wszystkich państw centralnych'"
      ]
     },
     "execution_count": 49,
     "metadata": {},
     "output_type": "execute_result"
    }
   ],
   "source": [
    "tag_generator_bi.generate_sentence_coresponding_tags(s4, tagged_tokens,\n",
    "                                                     unigrams, bigrams,\n",
    "                                                     tag_sets,\n",
    "                                                     continuations=10)"
   ]
  },
  {
   "cell_type": "code",
   "execution_count": 58,
   "metadata": {},
   "outputs": [
    {
     "data": {
      "text/plain": [
       "'Nie ma więc żadnych działań fiskalnych'"
      ]
     },
     "execution_count": 58,
     "metadata": {},
     "output_type": "execute_result"
    }
   ],
   "source": [
    "tag_generator_bi.generate_sentence_coresponding_tags(s4, tagged_tokens,\n",
    "                                                     unigrams, bigrams,\n",
    "                                                     tag_sets,\n",
    "                                                     continuations=100)"
   ]
  },
  {
   "cell_type": "code",
   "execution_count": 50,
   "metadata": {},
   "outputs": [],
   "source": [
    "s5 = 'Zadanie będzie oceniane na podzbiorze części testowej korpusu'"
   ]
  },
  {
   "cell_type": "markdown",
   "metadata": {},
   "source": [
    "#### Unigrams"
   ]
  },
  {
   "cell_type": "code",
   "execution_count": 51,
   "metadata": {},
   "outputs": [
    {
     "data": {
      "text/plain": [
       "'Pismo będzie chronione z zakresie części polskiej remontu'"
      ]
     },
     "execution_count": 51,
     "metadata": {},
     "output_type": "execute_result"
    }
   ],
   "source": [
    "tag_generator_uni.generate_sentence_coresponding_tags(s5, tagged_tokens,\n",
    "                                                      unigrams, tag_sets)"
   ]
  },
  {
   "cell_type": "markdown",
   "metadata": {},
   "source": [
    "#### Bigrams"
   ]
  },
  {
   "cell_type": "code",
   "execution_count": 52,
   "metadata": {},
   "outputs": [
    {
     "data": {
      "text/plain": [
       "'Spięcie  |  będzie realizowane w rzeszowie  |  części dawnej  |  pomiaru'"
      ]
     },
     "execution_count": 52,
     "metadata": {},
     "output_type": "execute_result"
    }
   ],
   "source": [
    "tag_generator_bi.generate_sentence_coresponding_tags(s5, tagged_tokens,\n",
    "                                                     unigrams, bigrams,\n",
    "                                                     tag_sets)"
   ]
  },
  {
   "cell_type": "code",
   "execution_count": 53,
   "metadata": {},
   "outputs": [
    {
     "data": {
      "text/plain": [
       "'Stanowisko będzie wydane na rządzie  |  części zachodniej kościoła'"
      ]
     },
     "execution_count": 53,
     "metadata": {},
     "output_type": "execute_result"
    }
   ],
   "source": [
    "tag_generator_bi.generate_sentence_coresponding_tags(s5, tagged_tokens,\n",
    "                                                     unigrams, bigrams,\n",
    "                                                     tag_sets,\n",
    "                                                     continuations=10)"
   ]
  },
  {
   "cell_type": "code",
   "execution_count": 59,
   "metadata": {},
   "outputs": [
    {
     "data": {
      "text/plain": [
       "'Oblicze  |  będzie udzielane w języku  |  części wspólnej rządu'"
      ]
     },
     "execution_count": 59,
     "metadata": {},
     "output_type": "execute_result"
    }
   ],
   "source": [
    "tag_generator_bi.generate_sentence_coresponding_tags(s5, tagged_tokens,\n",
    "                                                     unigrams, bigrams,\n",
    "                                                     tag_sets,\n",
    "                                                     continuations=100)"
   ]
  }
 ],
 "metadata": {
  "kernelspec": {
   "display_name": "Python 3",
   "language": "python",
   "name": "python3"
  },
  "language_info": {
   "codemirror_mode": {
    "name": "ipython",
    "version": 3
   },
   "file_extension": ".py",
   "mimetype": "text/x-python",
   "name": "python",
   "nbconvert_exporter": "python",
   "pygments_lexer": "ipython3",
   "version": "3.6.5"
  }
 },
 "nbformat": 4,
 "nbformat_minor": 2
}
