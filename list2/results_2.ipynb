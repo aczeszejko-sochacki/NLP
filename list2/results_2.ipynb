{
 "cells": [
  {
   "cell_type": "markdown",
   "metadata": {},
   "source": [
    "# Natural Language Processing"
   ]
  },
  {
   "cell_type": "markdown",
   "metadata": {},
   "source": [
    "### List 2"
   ]
  },
  {
   "cell_type": "code",
   "execution_count": 1,
   "metadata": {},
   "outputs": [],
   "source": [
    "from src.parsers.tag_bigram_parser import TagBigramParser\n",
    "from src.parsers.tag_parser import TagParser\n",
    "from src.parsers.bigram_parser import BigramParser\n",
    "from src.bigram_tag_bigram_shuffler import BigramTagBigramShuffler\n",
    "from src.jackard_index import Jackard\n",
    "from src.parsers.short_sentence_parser import ShortSentenceParser\n",
    "import numpy as np"
   ]
  },
  {
   "cell_type": "markdown",
   "metadata": {},
   "source": [
    "## Create required objects, structs etc."
   ]
  },
  {
   "cell_type": "code",
   "execution_count": 2,
   "metadata": {},
   "outputs": [],
   "source": [
    "bigram_parser = BigramParser('poleval_2grams.txt')\n",
    "simple_bigrams = bigram_parser.create_simple_bigrams_struct()"
   ]
  },
  {
   "cell_type": "code",
   "execution_count": 3,
   "metadata": {},
   "outputs": [
    {
     "data": {
      "text/plain": [
       "{('rozdrobniona', 'sieć'): '11', ('świadectwem', ','): '87'}"
      ]
     },
     "execution_count": 3,
     "metadata": {},
     "output_type": "execute_result"
    }
   ],
   "source": [
    "# Some examples of simple_bigrams\n",
    "dict(list(simple_bigrams.bigrams.items())[:2])"
   ]
  },
  {
   "cell_type": "code",
   "execution_count": 4,
   "metadata": {},
   "outputs": [],
   "source": [
    "tag_parser = TagParser()"
   ]
  },
  {
   "cell_type": "code",
   "execution_count": 5,
   "metadata": {},
   "outputs": [],
   "source": [
    "tagged_tokens = tag_parser.create_tag_token_pairs()"
   ]
  },
  {
   "cell_type": "code",
   "execution_count": 6,
   "metadata": {},
   "outputs": [],
   "source": [
    "tag_bigram_parser = TagBigramParser()"
   ]
  },
  {
   "cell_type": "code",
   "execution_count": 7,
   "metadata": {},
   "outputs": [],
   "source": [
    "tag_bigrams = tag_bigram_parser.create_tag_bigrams_dict(tagged_tokens)"
   ]
  },
  {
   "cell_type": "code",
   "execution_count": 8,
   "metadata": {},
   "outputs": [
    {
     "data": {
      "text/plain": [
       "{('T3618', 'T2906'): 16044, ('T37', 'T77'): 6571}"
      ]
     },
     "execution_count": 8,
     "metadata": {},
     "output_type": "execute_result"
    }
   ],
   "source": [
    "# Some examples of tag_bigrams\n",
    "dict(list(tag_bigrams.tag_bigrams.items())[:2])"
   ]
  },
  {
   "cell_type": "code",
   "execution_count": 9,
   "metadata": {},
   "outputs": [],
   "source": [
    "bigram_tagbigram_shuffler = BigramTagBigramShuffler()"
   ]
  },
  {
   "cell_type": "code",
   "execution_count": 10,
   "metadata": {},
   "outputs": [],
   "source": [
    "short_sentence_parser = ShortSentenceParser()\n",
    "short_sentences = short_sentence_parser.extract_sentences(threshold=6)"
   ]
  },
  {
   "cell_type": "code",
   "execution_count": 11,
   "metadata": {},
   "outputs": [
    {
     "data": {
      "text/plain": [
       "1685510"
      ]
     },
     "execution_count": 11,
     "metadata": {},
     "output_type": "execute_result"
    }
   ],
   "source": [
    "len(short_sentences)"
   ]
  },
  {
   "cell_type": "markdown",
   "metadata": {},
   "source": [
    "#### Check BigramTagBigramShuffler"
   ]
  },
  {
   "cell_type": "code",
   "execution_count": 12,
   "metadata": {},
   "outputs": [
    {
     "data": {
      "text/plain": [
       "('jakiejś operatora pełnienie zarówno', 0.9999877116507956)"
      ]
     },
     "execution_count": 12,
     "metadata": {},
     "output_type": "execute_result"
    }
   ],
   "source": [
    "bigram_tagbigram_shuffler.get_the_best_perm_bigram('operatora zarówno pełnienie jakiejś',\n",
    "                                                    simple_bigrams)"
   ]
  },
  {
   "cell_type": "code",
   "execution_count": 13,
   "metadata": {},
   "outputs": [
    {
     "data": {
      "text/plain": [
       "('zarówno jakiejś operatora pełnienie', 1.0)"
      ]
     },
     "execution_count": 13,
     "metadata": {},
     "output_type": "execute_result"
    }
   ],
   "source": [
    "bigram_tagbigram_shuffler.get_the_best_perm_tag_bigram('operatora zarówno pełnienie jakiejś',\n",
    "                                                        tag_bigrams, tagged_tokens)"
   ]
  },
  {
   "cell_type": "code",
   "execution_count": 14,
   "metadata": {},
   "outputs": [],
   "source": [
    "jackard_measure = Jackard()"
   ]
  },
  {
   "cell_type": "markdown",
   "metadata": {},
   "source": [
    "## Tune the $\\alpha$ on the validation data"
   ]
  },
  {
   "cell_type": "code",
   "execution_count": 15,
   "metadata": {},
   "outputs": [],
   "source": [
    "validation_sentences = short_sentences[:100]"
   ]
  },
  {
   "cell_type": "code",
   "execution_count": 16,
   "metadata": {},
   "outputs": [],
   "source": [
    "def measure_jackard_alpha(sentence: str, alpha: float) -> float:\n",
    "    \"\"\"\n",
    "    Return jackard index for the sentence with respect to\n",
    "    the found alpha\n",
    "    \"\"\"\n",
    "    \n",
    "    # Handle sentence based on bigrams\n",
    "    gen_bigrams_sent, gen_bigrams_naturalness = \\\n",
    "        bigram_tagbigram_shuffler.get_the_best_perm_bigram(sentence,\n",
    "                                                               simple_bigrams)  \n",
    "    vote_bigram = alpha * gen_bigrams_naturalness\n",
    "        \n",
    "    # Handle sentence based on tag bigrams\n",
    "    gen_tag_bigrams_sent,  gen_tag_bigrams_naturalness = \\\n",
    "        bigram_tagbigram_shuffler.get_the_best_perm_tag_bigram(sentence,\n",
    "                                                                   tag_bigrams,\n",
    "                                                                   tagged_tokens)       \n",
    "    vote_tag_bigram = alpha * (1-alpha) * gen_tag_bigrams_naturalness\n",
    "        \n",
    "    if vote_bigram > vote_tag_bigram:\n",
    "            \n",
    "        # Add bigrams sent to jackard for the alpha\n",
    "        jackard = jackard_measure.jackard_for_sentences(sentence, gen_bigrams_sent)\n",
    "    else:\n",
    "        \n",
    "        # Add tag bigrams to jackard for the alpha\n",
    "        jackard = jackard_measure.jackard_for_sentences(sentence, gen_tag_bigrams_sent)\n",
    "        \n",
    "    return jackard"
   ]
  },
  {
   "cell_type": "code",
   "execution_count": 17,
   "metadata": {},
   "outputs": [],
   "source": [
    "best_jackard, best_alpha = 0, 0.\n",
    "\n",
    "for alpha in np.linspace(0., 1., 101):\n",
    "    jackard_sum = 0.\n",
    "    \n",
    "    for sentence in validation_sentences:\n",
    "        \n",
    "        jackard = measure_jackard_alpha(sentence, alpha)\n",
    "        \n",
    "        jackard_sum += jackard\n",
    "        \n",
    "    # Update the best alpha\n",
    "    if jackard_sum > best_jackard:\n",
    "        best_jackard = jackard_sum\n",
    "        best_alpha = alpha"
   ]
  },
  {
   "cell_type": "markdown",
   "metadata": {},
   "source": [
    "#### Found parameter alpha and coresponding jackard"
   ]
  },
  {
   "cell_type": "code",
   "execution_count": 18,
   "metadata": {},
   "outputs": [
    {
     "data": {
      "text/plain": [
       "(0.45547619047619053, 0.01)"
      ]
     },
     "execution_count": 18,
     "metadata": {},
     "output_type": "execute_result"
    }
   ],
   "source": [
    "best_jackard / len(validation_sentences), best_alpha"
   ]
  },
  {
   "cell_type": "markdown",
   "metadata": {},
   "source": [
    "## Tests"
   ]
  },
  {
   "cell_type": "code",
   "execution_count": 19,
   "metadata": {},
   "outputs": [
    {
     "data": {
      "text/plain": [
       "0.25"
      ]
     },
     "execution_count": 19,
     "metadata": {},
     "output_type": "execute_result"
    }
   ],
   "source": [
    "measure_jackard_alpha('Owocniki pojawiają się od września do listopada.', best_alpha)"
   ]
  },
  {
   "cell_type": "code",
   "execution_count": 20,
   "metadata": {},
   "outputs": [
    {
     "data": {
      "text/plain": [
       "0.16666666666666666"
      ]
     },
     "execution_count": 20,
     "metadata": {},
     "output_type": "execute_result"
    }
   ],
   "source": [
    "measure_jackard_alpha('Na skrzyżowaniu skręć w lewo', best_alpha)"
   ]
  },
  {
   "cell_type": "code",
   "execution_count": 21,
   "metadata": {},
   "outputs": [
    {
     "data": {
      "text/plain": [
       "1.0"
      ]
     },
     "execution_count": 21,
     "metadata": {},
     "output_type": "execute_result"
    }
   ],
   "source": [
    "measure_jackard_alpha('Zaraz będzie koniec.', best_alpha)"
   ]
  },
  {
   "cell_type": "code",
   "execution_count": 22,
   "metadata": {},
   "outputs": [
    {
     "data": {
      "text/plain": [
       "0.25"
      ]
     },
     "execution_count": 22,
     "metadata": {},
     "output_type": "execute_result"
    }
   ],
   "source": [
    "measure_jackard_alpha('zaraz będzie koniec', best_alpha)"
   ]
  },
  {
   "cell_type": "code",
   "execution_count": 23,
   "metadata": {},
   "outputs": [
    {
     "data": {
      "text/plain": [
       "0.14285714285714285"
      ]
     },
     "execution_count": 23,
     "metadata": {},
     "output_type": "execute_result"
    }
   ],
   "source": [
    "measure_jackard_alpha('Komisja wnosi o przyjęcie tej poprawki.', best_alpha)"
   ]
  },
  {
   "cell_type": "code",
   "execution_count": 24,
   "metadata": {},
   "outputs": [
    {
     "data": {
      "text/plain": [
       "1.0"
      ]
     },
     "execution_count": 24,
     "metadata": {},
     "output_type": "execute_result"
    }
   ],
   "source": [
    "measure_jackard_alpha('komisja wnosi o przyjęcie tej poprawki', best_alpha)"
   ]
  },
  {
   "cell_type": "code",
   "execution_count": null,
   "metadata": {},
   "outputs": [],
   "source": []
  }
 ],
 "metadata": {
  "kernelspec": {
   "display_name": "Python 3",
   "language": "python",
   "name": "python3"
  },
  "language_info": {
   "codemirror_mode": {
    "name": "ipython",
    "version": 3
   },
   "file_extension": ".py",
   "mimetype": "text/x-python",
   "name": "python",
   "nbconvert_exporter": "python",
   "pygments_lexer": "ipython3",
   "version": "3.6.5"
  }
 },
 "nbformat": 4,
 "nbformat_minor": 2
}
