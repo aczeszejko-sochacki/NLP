{
 "cells": [
  {
   "cell_type": "markdown",
   "metadata": {},
   "source": [
    "# Natural Language Processing"
   ]
  },
  {
   "cell_type": "markdown",
   "metadata": {},
   "source": [
    "## List 1"
   ]
  },
  {
   "cell_type": "code",
   "execution_count": 19,
   "metadata": {},
   "outputs": [],
   "source": [
    "from naturalness_measure import MeasureNaturalness"
   ]
  },
  {
   "cell_type": "markdown",
   "metadata": {},
   "source": [
    "### Create objects measuring naturalness of sentences basing on ngrams statistics "
   ]
  },
  {
   "cell_type": "code",
   "execution_count": 2,
   "metadata": {},
   "outputs": [],
   "source": [
    "measure_2grams = MeasureNaturalness(2, 'poleval_2grams.txt')"
   ]
  },
  {
   "cell_type": "code",
   "execution_count": 3,
   "metadata": {},
   "outputs": [],
   "source": [
    "measure_3grams = MeasureNaturalness(3, 'poleval_3grams.txt')"
   ]
  },
  {
   "cell_type": "markdown",
   "metadata": {},
   "source": [
    "###  Some tests"
   ]
  },
  {
   "cell_type": "markdown",
   "metadata": {},
   "source": [
    "#### 'Judyta dała wczoraj Stefanowi czekoladki.'"
   ]
  },
  {
   "cell_type": "code",
   "execution_count": 6,
   "metadata": {},
   "outputs": [],
   "source": [
    "s1 = 'Judyta dała wczoraj Stefanowi czekoladki.'"
   ]
  },
  {
   "cell_type": "code",
   "execution_count": 7,
   "metadata": {},
   "outputs": [
    {
     "data": {
      "text/plain": [
       "[('czekoladki. Judyta wczoraj dała Stefanowi', 1),\n",
       " ('wczoraj dała Stefanowi czekoladki. Judyta', 1),\n",
       " ('Judyta dała Stefanowi czekoladki. wczoraj', 0)]"
      ]
     },
     "execution_count": 7,
     "metadata": {},
     "output_type": "execute_result"
    }
   ],
   "source": [
    "measure_2grams.index_sentence_permutations(s1, n_permutations=3)"
   ]
  },
  {
   "cell_type": "code",
   "execution_count": 8,
   "metadata": {},
   "outputs": [
    {
     "data": {
      "text/plain": [
       "[('Judyta wczoraj czekoladki. Stefanowi dała', 0),\n",
       " ('Stefanowi dała Judyta wczoraj czekoladki.', 0),\n",
       " ('czekoladki. Stefanowi dała Judyta wczoraj', 0)]"
      ]
     },
     "execution_count": 8,
     "metadata": {},
     "output_type": "execute_result"
    }
   ],
   "source": [
    "measure_3grams.index_sentence_permutations(s1, n_permutations=3)"
   ]
  },
  {
   "cell_type": "markdown",
   "metadata": {},
   "source": [
    "#### 'Babuleńka miała dwa rogate koziołki.'"
   ]
  },
  {
   "cell_type": "code",
   "execution_count": 9,
   "metadata": {},
   "outputs": [],
   "source": [
    "s2 = 'Babuleńka miała dwa rogate koziołki.'"
   ]
  },
  {
   "cell_type": "code",
   "execution_count": 10,
   "metadata": {},
   "outputs": [
    {
     "data": {
      "text/plain": [
       "[('Babuleńka koziołki. dwa rogate miała', 1),\n",
       " ('koziołki. miała Babuleńka rogate dwa', 0),\n",
       " ('dwa Babuleńka miała koziołki. rogate', 0)]"
      ]
     },
     "execution_count": 10,
     "metadata": {},
     "output_type": "execute_result"
    }
   ],
   "source": [
    "measure_2grams.index_sentence_permutations(s2, n_permutations=3)"
   ]
  },
  {
   "cell_type": "code",
   "execution_count": 12,
   "metadata": {},
   "outputs": [
    {
     "data": {
      "text/plain": [
       "[('Babuleńka koziołki. miała rogate dwa', 0),\n",
       " ('koziołki. rogate dwa Babuleńka miała', 0),\n",
       " ('dwa koziołki. miała rogate Babuleńka', 0)]"
      ]
     },
     "execution_count": 12,
     "metadata": {},
     "output_type": "execute_result"
    }
   ],
   "source": [
    "measure_3grams.index_sentence_permutations(s2, n_permutations=3)"
   ]
  },
  {
   "cell_type": "markdown",
   "metadata": {},
   "source": [
    "#### 'Wczoraj wieczorem spotkałem pewną piękną kobietę'"
   ]
  },
  {
   "cell_type": "code",
   "execution_count": 14,
   "metadata": {},
   "outputs": [],
   "source": [
    "s3 = 'Wczoraj wieczorem spotkałem pewną piękną kobietę' "
   ]
  },
  {
   "cell_type": "code",
   "execution_count": 15,
   "metadata": {},
   "outputs": [
    {
     "data": {
      "text/plain": [
       "[('Wczoraj wieczorem pewną spotkałem piękną kobietę', 63),\n",
       " ('piękną Wczoraj pewną kobietę spotkałem wieczorem', 11),\n",
       " ('Wczoraj spotkałem wieczorem kobietę piękną pewną', 0)]"
      ]
     },
     "execution_count": 15,
     "metadata": {},
     "output_type": "execute_result"
    }
   ],
   "source": [
    "measure_2grams.index_sentence_permutations(s3, n_permutations=3)"
   ]
  },
  {
   "cell_type": "code",
   "execution_count": 16,
   "metadata": {},
   "outputs": [
    {
     "data": {
      "text/plain": [
       "[('spotkałem kobietę wieczorem pewną piękną Wczoraj', 0),\n",
       " ('pewną Wczoraj piękną kobietę spotkałem wieczorem', 0),\n",
       " ('piękną spotkałem pewną wieczorem kobietę Wczoraj', 0)]"
      ]
     },
     "execution_count": 16,
     "metadata": {},
     "output_type": "execute_result"
    }
   ],
   "source": [
    "measure_3grams.index_sentence_permutations(s3, n_permutations=3)"
   ]
  },
  {
   "cell_type": "markdown",
   "metadata": {},
   "source": [
    "#### 'coś może być dzisiaj'"
   ]
  },
  {
   "cell_type": "code",
   "execution_count": 17,
   "metadata": {},
   "outputs": [],
   "source": [
    "s4 = 'coś może być dzisiaj'"
   ]
  },
  {
   "cell_type": "code",
   "execution_count": 18,
   "metadata": {},
   "outputs": [
    {
     "data": {
      "text/plain": [
       "[('coś może być dzisiaj', 104948),\n",
       " ('coś dzisiaj być może', 42323),\n",
       " ('coś być dzisiaj może', 478)]"
      ]
     },
     "execution_count": 18,
     "metadata": {},
     "output_type": "execute_result"
    }
   ],
   "source": [
    "measure_2grams.index_sentence_permutations(s4, n_permutations=3)"
   ]
  },
  {
   "cell_type": "code",
   "execution_count": 20,
   "metadata": {},
   "outputs": [
    {
     "data": {
      "text/plain": [
       "[('coś być może dzisiaj', 1), ('coś być dzisiaj może', 0)]"
      ]
     },
     "execution_count": 20,
     "metadata": {},
     "output_type": "execute_result"
    }
   ],
   "source": [
    "measure_3grams.index_sentence_permutations(s4, n_permutations=3)"
   ]
  },
  {
   "cell_type": "markdown",
   "metadata": {},
   "source": [
    "#### 'leniwy pan poseł złamał nogę' "
   ]
  },
  {
   "cell_type": "code",
   "execution_count": 21,
   "metadata": {},
   "outputs": [],
   "source": [
    "s5 = 'leniwy pan poseł złamał nogę'"
   ]
  },
  {
   "cell_type": "code",
   "execution_count": 22,
   "metadata": {},
   "outputs": [
    {
     "data": {
      "text/plain": [
       "[('leniwy nogę złamał poseł pan', 18),\n",
       " ('pan leniwy złamał poseł nogę', 0),\n",
       " ('poseł nogę pan leniwy złamał', 0)]"
      ]
     },
     "execution_count": 22,
     "metadata": {},
     "output_type": "execute_result"
    }
   ],
   "source": [
    "measure_2grams.index_sentence_permutations(s5, n_permutations=3)"
   ]
  },
  {
   "cell_type": "code",
   "execution_count": 23,
   "metadata": {},
   "outputs": [
    {
     "data": {
      "text/plain": [
       "[('poseł leniwy pan złamał nogę', 0),\n",
       " ('nogę poseł pan leniwy złamał', 0),\n",
       " ('poseł pan złamał leniwy nogę', 0)]"
      ]
     },
     "execution_count": 23,
     "metadata": {},
     "output_type": "execute_result"
    }
   ],
   "source": [
    "measure_3grams.index_sentence_permutations(s5, n_permutations=3)"
   ]
  },
  {
   "cell_type": "code",
   "execution_count": null,
   "metadata": {},
   "outputs": [],
   "source": []
  }
 ],
 "metadata": {
  "kernelspec": {
   "display_name": "Python 3",
   "language": "python",
   "name": "python3"
  },
  "language_info": {
   "codemirror_mode": {
    "name": "ipython",
    "version": 3
   },
   "file_extension": ".py",
   "mimetype": "text/x-python",
   "name": "python",
   "nbconvert_exporter": "python",
   "pygments_lexer": "ipython3",
   "version": "3.6.5"
  }
 },
 "nbformat": 4,
 "nbformat_minor": 2
}
