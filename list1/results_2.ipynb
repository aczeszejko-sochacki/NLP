{
 "cells": [
  {
   "cell_type": "markdown",
   "metadata": {},
   "source": [
    "# Natural Language Processing"
   ]
  },
  {
   "cell_type": "markdown",
   "metadata": {},
   "source": [
    "## List 1"
   ]
  },
  {
   "cell_type": "code",
   "execution_count": 4,
   "metadata": {},
   "outputs": [],
   "source": [
    "from src.generator import BiUniGenerator, TriUniGenerator"
   ]
  },
  {
   "cell_type": "markdown",
   "metadata": {},
   "source": [
    "### Create some generators "
   ]
  },
  {
   "cell_type": "markdown",
   "metadata": {},
   "source": [
    "#### With values drawing from uniform distribution"
   ]
  },
  {
   "cell_type": "code",
   "execution_count": 4,
   "metadata": {},
   "outputs": [],
   "source": [
    "gen_bi_uni_5 = BiUniGenerator(k=5)"
   ]
  },
  {
   "cell_type": "code",
   "execution_count": 5,
   "metadata": {},
   "outputs": [],
   "source": [
    "gen_bi_uni_10 = BiUniGenerator(k=10)"
   ]
  },
  {
   "cell_type": "code",
   "execution_count": 6,
   "metadata": {},
   "outputs": [],
   "source": [
    "gen_tri_uni_5 = TriUniGenerator(k=5)"
   ]
  },
  {
   "cell_type": "code",
   "execution_count": 7,
   "metadata": {},
   "outputs": [],
   "source": [
    "gen_tri_uni_10 = TriUniGenerator(k=10)"
   ]
  },
  {
   "cell_type": "markdown",
   "metadata": {},
   "source": [
    "### Make some tests"
   ]
  },
  {
   "cell_type": "markdown",
   "metadata": {},
   "source": [
    "#### With values drawing from uniform distribution"
   ]
  },
  {
   "cell_type": "code",
   "execution_count": 8,
   "metadata": {},
   "outputs": [
    {
     "data": {
      "text/plain": [
       "'kodniu , pytaniu referendalnym . eugeniusz duda : ols porzeczkowy . cena euro miesięcznie wydaje rada ue też układów krystalograficznych . 4e i cieszyński przemysław gintrowski , pełniejszego zrozumienia wartości czynszu a smith zadebiutował pierwszy kompleks zajmuje niewielką . ilość sklepów zawiera prośbę klienta sieci ed2k , sadownictwie oraz pilnej modernizacji istniejącego dziś wysokie prezydium wk sd huesca , podwórek i detalicznie , usterka samochodu : odda i wychowawczy oraz rozwiązania da parma fc blackpool z księgi starego sambora . zenon piech , antykwariaty . raczyńskiego ( otrzymanym piśmie złożonym pod sieci 5g ustawy precyzyjnie wskazany dokument celny czy rad osiedli żydowskich miasto ma końcówkę roku bezpośrednio sejmowi projektu całościowego modelu sprzedażowego . szyby boczne wloty do kurczenia się zaprzyjaźnili . wojciech wrzesiński . franciszkanów o. pio jest najwyższą godność każdej połowie trzeciego powstania niedoboru jest wagon . starkiewicza , stracę pracę rąk : zawór maszynisty minimalnej ? <EOS>'"
      ]
     },
     "execution_count": 8,
     "metadata": {},
     "output_type": "execute_result"
    }
   ],
   "source": [
    "gen_bi_uni_5.generate_sentence()"
   ]
  },
  {
   "cell_type": "code",
   "execution_count": 12,
   "metadata": {},
   "outputs": [
    {
     "data": {
      "text/plain": [
       "'kłodnie wielkim a odpowiedni raport , radach nadzorczych wielu amatorskich . alexandra balla , wystawę fotografii a ciaza to zawieszone postępowanie kierownictwa służb były sukcesem także preparat witaminowy , murowano-szachulcowy , sklepiku ( wójt burmistrz został fabrycznie z aldebarana , echl , dostarczał jej zrealizować postawione . lista urzędów podatkowych nałożonych zostało 25 rozegranych ligowych występach reprezentacyjnych budowli wykonano prototyp tej wyodrębnia trzy głosy pełne niezwykłych przygodach człowieka-nietoperza . marian borkowski ) praktyka tego opiniowania założeń ministerstwo wydaje przy 117 kodeksu kanonicznego atk ( ustawodawstwo ma precyzyjne kryteria dochodowe dla biegłych przez kopi z debiutantem w krojach i 2.8 ... wszystkich uzdrowiskach polskich restauracjach itp. możesz bezpiecznie transportować je wspieramy ich zawieźć ją bolała go dłonią błogosławi i rekultywację terenu nie dzielą przestrzeń dyskową , zbrojownię . 5c pkt 67 mężczyzn bardziej złożona jest 24 300 gmin będą strzegli . branickich . sam przyznam ze sprzeciwami'"
      ]
     },
     "execution_count": 12,
     "metadata": {},
     "output_type": "execute_result"
    }
   ],
   "source": [
    "gen_bi_uni_5.generate_sentence()"
   ]
  },
  {
   "cell_type": "code",
   "execution_count": 9,
   "metadata": {},
   "outputs": [
    {
     "data": {
      "text/plain": [
       "'senioralnej jest codziennym języku maszynowym w ujęciach taksonomicznych , spożywczy jest zniszczenie całego rachunku przepływów handlowych wielkopowierzchniowych ? <EOS>'"
      ]
     },
     "execution_count": 9,
     "metadata": {},
     "output_type": "execute_result"
    }
   ],
   "source": [
    "gen_bi_uni_10.generate_sentence()"
   ]
  },
  {
   "cell_type": "code",
   "execution_count": 13,
   "metadata": {},
   "outputs": [
    {
     "data": {
      "text/plain": [
       "'2157 ) powstało 25 - osiedle witosa na roz wo ... aha - wójt gminy otrzymują z osiągnięć medycyny ludowej we własny wątek dotyczy od zawarcia sakramentu z pew ne wy ni li we wspaniałe zwycięstwo indywidualne działania ? <EOS>'"
      ]
     },
     "execution_count": 13,
     "metadata": {},
     "output_type": "execute_result"
    }
   ],
   "source": [
    "gen_bi_uni_10.generate_sentence()"
   ]
  },
  {
   "cell_type": "code",
   "execution_count": 10,
   "metadata": {},
   "outputs": [
    {
     "data": {
      "text/plain": [
       "'rozpatruje skargę w trybie podstawowym , w przyjaznych stosunkach ze stanami nadzwyczajnymi'"
      ]
     },
     "execution_count": 10,
     "metadata": {},
     "output_type": "execute_result"
    }
   ],
   "source": [
    "gen_tri_uni_5.generate_sentence()"
   ]
  },
  {
   "cell_type": "code",
   "execution_count": 14,
   "metadata": {},
   "outputs": [
    {
     "data": {
      "text/plain": [
       "'terminowość , rzetelność'"
      ]
     },
     "execution_count": 14,
     "metadata": {},
     "output_type": "execute_result"
    }
   ],
   "source": [
    "gen_tri_uni_5.generate_sentence()"
   ]
  },
  {
   "cell_type": "code",
   "execution_count": 18,
   "metadata": {},
   "outputs": [
    {
     "data": {
      "text/plain": [
       "'krzywdom powstałym w tym hrabstwie'"
      ]
     },
     "execution_count": 18,
     "metadata": {},
     "output_type": "execute_result"
    }
   ],
   "source": [
    "gen_tri_uni_10.generate_sentence()"
   ]
  },
  {
   "cell_type": "code",
   "execution_count": 17,
   "metadata": {},
   "outputs": [
    {
     "data": {
      "text/plain": [
       "'formie dofinansowania zakupu podręczników do przedmiotów'"
      ]
     },
     "execution_count": 17,
     "metadata": {},
     "output_type": "execute_result"
    }
   ],
   "source": [
    "gen_tri_uni_10.generate_sentence()"
   ]
  },
  {
   "cell_type": "code",
   "execution_count": null,
   "metadata": {},
   "outputs": [],
   "source": []
  }
 ],
 "metadata": {
  "kernelspec": {
   "display_name": "Python 3",
   "language": "python",
   "name": "python3"
  },
  "language_info": {
   "codemirror_mode": {
    "name": "ipython",
    "version": 3
   },
   "file_extension": ".py",
   "mimetype": "text/x-python",
   "name": "python",
   "nbconvert_exporter": "python",
   "pygments_lexer": "ipython3",
   "version": "3.6.5"
  }
 },
 "nbformat": 4,
 "nbformat_minor": 2
}
